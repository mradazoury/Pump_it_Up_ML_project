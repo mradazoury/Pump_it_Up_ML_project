{
 "cells": [
  {
   "cell_type": "code",
   "execution_count": 1,
   "metadata": {},
   "outputs": [
    {
     "name": "stdout",
     "output_type": "stream",
     "text": [
      "Once deleted, variables cannot be recovered. Proceed (y/[n])? y\n"
     ]
    }
   ],
   "source": [
    "%reset"
   ]
  },
  {
   "cell_type": "markdown",
   "metadata": {},
   "source": [
    "#  Packages & Imports"
   ]
  },
  {
   "cell_type": "code",
   "execution_count": 72,
   "metadata": {},
   "outputs": [],
   "source": [
    "import numpy as np\n",
    "import pandas as pd\n",
    "import matplotlib as plt\n",
    "import seaborn as sns\n",
    "import sklearn as skl\n",
    "import warnings\n",
    "import statsmodels.api as sm\n",
    "\n",
    "from sklearn import datasets, linear_model\n",
    "from sklearn.linear_model import LogisticRegression\n",
    "from sklearn.metrics import mean_squared_error\n",
    "from sklearn.model_selection import train_test_split, KFold, GridSearchCV\n",
    "from sklearn.model_selection import cross_val_score, cross_val_predict, ShuffleSplit, validation_curve, cross_validate\n",
    "from sklearn.pipeline import make_pipeline\n",
    "from sklearn.preprocessing import LabelBinarizer, RobustScaler, LabelEncoder, scale, MinMaxScaler, PolynomialFeatures\n",
    "from sklearn.ensemble import ExtraTreesClassifier\n",
    "from sklearn.metrics import accuracy_score, classification_report, roc_curve, roc_auc_score, confusion_matrix\n",
    "from sklearn.decomposition import PCA\n",
    "from sklearn import datasets\n",
    "from sklearn.feature_selection import RFE,SelectFromModel\n",
    "\n",
    "from sklearn.ensemble import RandomForestClassifier as RFC\n",
    "from sklearn.datasets import make_classification\n",
    "\n",
    "from xgboost import XGBClassifier \n",
    "\n",
    "from scipy.stats import skew, boxcox_normmax\n",
    "from scipy.special import boxcox1p\n",
    "\n",
    "import os\n",
    "os.environ['KMP_DUPLICATE_LIB_OK']='True'\n",
    "import math as m\n",
    "import requests\n",
    "\n",
    "warnings.filterwarnings('ignore')\n",
    "warnings.simplefilter(action='ignore', category=FutureWarning)\n",
    "warnings.simplefilter(action='ignore', category=DeprecationWarning)\n",
    "warnings.simplefilter('ignore')\n"
   ]
  },
  {
   "cell_type": "markdown",
   "metadata": {},
   "source": [
    "### Helper Functions"
   ]
  },
  {
   "cell_type": "code",
   "execution_count": 83,
   "metadata": {},
   "outputs": [
    {
     "name": "stdout",
     "output_type": "stream",
     "text": [
      "The autoreload extension is already loaded. To reload it, use:\n",
      "  %reload_ext autoreload\n"
     ]
    }
   ],
   "source": [
    "%load_ext autoreload\n",
    "%aimport data_prep\n",
    "%run data_prep.py\n",
    "%aimport modeling\n",
    "%run modeling.py\n",
    "%autoreload 1"
   ]
  },
  {
   "cell_type": "markdown",
   "metadata": {},
   "source": [
    "### Load Datasets"
   ]
  },
  {
   "cell_type": "code",
   "execution_count": 74,
   "metadata": {},
   "outputs": [],
   "source": [
    "train_data = pd.read_csv(\"training_set_values.csv\")\n",
    "train_labels = pd.read_csv(\"training_set_labels.csv\")\n",
    "test_data = pd.read_csv(\"test_set_values.csv\")"
   ]
  },
  {
   "cell_type": "code",
   "execution_count": null,
   "metadata": {},
   "outputs": [],
   "source": []
  },
  {
   "cell_type": "markdown",
   "metadata": {},
   "source": [
    "### Columns cleaning"
   ]
  },
  {
   "cell_type": "code",
   "execution_count": 76,
   "metadata": {},
   "outputs": [
    {
     "name": "stdout",
     "output_type": "stream",
     "text": [
      "`status_group` added to train_data \n",
      "\n",
      "['id', 'recorded_by', 'scheme_name', 'wpt_name', 'waterpoint_type_group'] removed from dataset \n",
      "\n",
      "['id', 'recorded_by', 'scheme_name', 'wpt_name', 'waterpoint_type_group'] removed from dataset \n",
      "\n"
     ]
    }
   ],
   "source": [
    "#Join Labels with Train data\n",
    "train_data = addLabelToTrainData(train_data, train_labels)\n",
    "\n",
    "#Drop id and recorded from train dataset \n",
    "train_data = prepareCols(train_data)\n",
    "test_data = prepareCols(test_data)\n"
   ]
  },
  {
   "cell_type": "markdown",
   "metadata": {},
   "source": [
    "### Shortlisting columns"
   ]
  },
  {
   "cell_type": "markdown",
   "metadata": {},
   "source": [
    "Shortlist Trainning set columns"
   ]
  },
  {
   "cell_type": "code",
   "execution_count": 77,
   "metadata": {},
   "outputs": [
    {
     "name": "stdout",
     "output_type": "stream",
     "text": [
      "`installer` shortlisted to {'Commu', 'DANIDA', 'DWE', 'Government', 'RWE', 'other'} only \n",
      "\n",
      "`funder` shortlisted to {'Government Of Tanzania','Danida','Hesawa','Rwssp','World Bank','Kkkt','World Vision','Unicef','Tasaf','District Council', 'other'} only \n",
      "\n",
      "`lga` shortlisted to {'Njombe','Arusha Rural','Moshi Rural','Bariadi','Rungwe','Kilosa','Kasulu','Mbozi','Meru','Bagamoyo', 'other'} only \n",
      "\n",
      "`extraction_type` shortlisted to {'gravity','nira/tanira','submersible','swn 80','mono','india mark ii','afridev','ksb', 'other'} only \n",
      "\n",
      "`scheme_management` shortlisted to {'VWC','WUG','Water authority','WUA','Water Board','Parastatal','Private operator','Company', 'other'} only \n",
      "\n",
      "`region_code` shortlisted to {11,17,12,3,5,18,19,2,16,10,4,1,13,14,20, 'other'} only \n",
      "\n"
     ]
    }
   ],
   "source": [
    "train_data_transformed = train_data.copy()\n",
    "\n",
    "\n",
    "# installer\n",
    "train_data_transformed = shortlist_installer(train_data_transformed)\n",
    "\n",
    "# funder\n",
    "train_data_transformed = shortlist_funder(train_data_transformed)\n",
    "\n",
    "# lga\n",
    "train_data_transformed = shortlist_lga(train_data_transformed)\n",
    "\n",
    "# extraction_type\n",
    "train_data_transformed = shortlist_extraction_type(train_data_transformed)\n",
    "\n",
    "#scheme_management\n",
    "train_data_transformed = shortlist_scheme_management(train_data_transformed)\n",
    "\n",
    "#region_code\n",
    "train_data_transformed = shortlist_region_code(train_data_transformed)\n",
    "\n",
    "\n"
   ]
  },
  {
   "cell_type": "markdown",
   "metadata": {},
   "source": [
    "Shortlist Test set columns"
   ]
  },
  {
   "cell_type": "code",
   "execution_count": 52,
   "metadata": {},
   "outputs": [
    {
     "name": "stdout",
     "output_type": "stream",
     "text": [
      "`installer` shortlisted to {'Commu', 'DANIDA', 'DWE', 'Government', 'RWE', 'other'} only \n",
      "\n",
      "`funder` shortlisted to {'Government Of Tanzania','Danida','Hesawa','Rwssp','World Bank','Kkkt','World Vision','Unicef','Tasaf','District Council', 'other'} only \n",
      "\n",
      "`lga` shortlisted to {'Njombe','Arusha Rural','Moshi Rural','Bariadi','Rungwe','Kilosa','Kasulu','Mbozi','Meru','Bagamoyo', 'other'} only \n",
      "\n",
      "`extraction_type` shortlisted to {'gravity','nira/tanira','submersible','swn 80','mono','india mark ii','afridev','ksb', 'other'} only \n",
      "\n",
      "`scheme_management` shortlisted to {'VWC','WUG','Water authority','WUA','Water Board','Parastatal','Private operator','Company', 'other'} only \n",
      "\n",
      "`region_code` shortlisted to {11,17,12,3,5,18,19,2,16,10,4,1,13,14,20, 'other'} only \n",
      "\n"
     ]
    }
   ],
   "source": [
    "test_data_transformed = test_data.copy()\n",
    "\n",
    "\n",
    "# installer\n",
    "test_data_transformed = shortlist_installer(test_data_transformed)\n",
    "\n",
    "# funder\n",
    "test_data_transformed = shortlist_funder(test_data_transformed)\n",
    "\n",
    "# lga\n",
    "test_data_transformed = shortlist_lga(test_data_transformed)\n",
    "\n",
    "# extraction_type\n",
    "test_data_transformed = shortlist_extraction_type(test_data_transformed)\n",
    "\n",
    "#scheme_management\n",
    "test_data_transformed = shortlist_scheme_management(test_data_transformed)\n",
    "\n",
    "#region_code\n",
    "test_data_transformed = shortlist_region_code(test_data_transformed)\n",
    "\n",
    "\n"
   ]
  },
  {
   "cell_type": "markdown",
   "metadata": {},
   "source": [
    "### Impute Values "
   ]
  },
  {
   "cell_type": "code",
   "execution_count": 53,
   "metadata": {},
   "outputs": [
    {
     "name": "stdout",
     "output_type": "stream",
     "text": [
      "latitude imputed with mean\n",
      "longitude imputed with mean\n"
     ]
    }
   ],
   "source": [
    "# Impute 0 for regions of 'Dodoma','Kagera','Mbeya','Tabora' this regions 0 ar actually missing values\n",
    "train_data_transformed = amount_tsh_impute_regions(train_data_transformed)\n",
    "\n",
    "#Impute Latitude by the mean of the geographical areas (increasing order \"subvillage\", \"ward\", \"lga\", \"district_code\", \"region\", \"basin\")\n",
    "train_data_transformed = impute_lat(train_data_transformed)\n",
    "\n",
    "#Impute Longitude by the mean of the geographical areas (increasing order \"subvillage\", \"ward\", \"lga\", \"district_code\", \"region\", \"basin\")\n",
    "train_data_transformed = impute_long(train_data_transformed)\n",
    "\n",
    "#Impute Population by the mean of the geographical areas (increasing order \"subvillage\", \"ward\", \"lga\", \"district_code\", \"region\", \"basin\")\n",
    "train_data_transformed = impute_pop(train_data_transformed)\n"
   ]
  },
  {
   "cell_type": "code",
   "execution_count": null,
   "metadata": {},
   "outputs": [],
   "source": [
    "# Impute 0 for regions of 'Dodoma','Kagera','Mbeya','Tabora' this regions 0 ar actually missing values\n",
    "test_data_transformed = amount_tsh_impute_regions(test_data_transformed)\n",
    "\n",
    "#Impute Latitude by the mean of the geographical areas (increasing order \"subvillage\", \"ward\", \"lga\", \"district_code\", \"region\", \"basin\")\n",
    "test_data_transformed = impute_lat(test_data_transformed)\n",
    "\n",
    "#Impute Longitude by the mean of the geographical areas (increasing order \"subvillage\", \"ward\", \"lga\", \"district_code\", \"region\", \"basin\")\n",
    "test_data_transformed = impute_long(test_data_transformed)\n",
    "\n",
    "#Impute Population by the mean of the geographical areas (increasing order \"subvillage\", \"ward\", \"lga\", \"district_code\", \"region\", \"basin\")\n",
    "test_data_transformed = impute_pop(test_data_transformed)\n"
   ]
  },
  {
   "cell_type": "markdown",
   "metadata": {},
   "source": [
    "### Add Outside Data"
   ]
  },
  {
   "cell_type": "code",
   "execution_count": null,
   "metadata": {},
   "outputs": [],
   "source": [
    "train_data = density(train_data)\n",
    "test_data = density(test_data)"
   ]
  },
  {
   "cell_type": "markdown",
   "metadata": {},
   "source": [
    "### Conversions\n",
    "#### Convert `construction_year`"
   ]
  },
  {
   "cell_type": "code",
   "execution_count": null,
   "metadata": {},
   "outputs": [],
   "source": [
    "# construction_year - converts it to years elapsed (AKA age) -- (zeroes ignored)\n",
    "train_data_transformed = convert_construction_year(train_data_transformed)"
   ]
  },
  {
   "cell_type": "code",
   "execution_count": null,
   "metadata": {},
   "outputs": [],
   "source": [
    "# construction_year - converts it to years elapsed (AKA age) -- (zeroes ignored)\n",
    "test_data_transformed = convert_construction_year(test_data_transformed)"
   ]
  },
  {
   "cell_type": "markdown",
   "metadata": {},
   "source": [
    "### ^^^^^^^^^^^^^^^^^^^^^^^^^^ What to do with zeros here ? (summary  ↓ ) -- currently imputing with median"
   ]
  },
  {
   "cell_type": "code",
   "execution_count": null,
   "metadata": {},
   "outputs": [],
   "source": [
    "zeroes =    train_data_transformed['age'][train_data_transformed['age'] == 0].count() / train_data_transformed['age'].count()\n",
    "mean = np.mean(train_data_transformed['age'][train_data_transformed['age'] != 0])\n",
    "median = np.median(train_data_transformed['age'][train_data_transformed['age'] != 0])\n",
    "\n",
    "print(\"% of zeroes: {}\".format(zeroes))\n",
    "\n",
    "print(\"mean: {}\".format(mean))\n",
    "\n",
    "\n",
    "print(\"median: {}\".format(median))\n",
    "\n",
    "# impute with median\n",
    "train_data_transformed[train_data_transformed['age'] == 0][[\"age\"]] = median"
   ]
  },
  {
   "cell_type": "code",
   "execution_count": null,
   "metadata": {},
   "outputs": [],
   "source": [
    "#Apply same process for Test Dataset"
   ]
  },
  {
   "cell_type": "markdown",
   "metadata": {},
   "source": [
    "#### Convert `date_recorded`"
   ]
  },
  {
   "cell_type": "code",
   "execution_count": null,
   "metadata": {},
   "outputs": [],
   "source": [
    "train_data_transformed = convert_date_recorded(train_data_transformed)"
   ]
  },
  {
   "cell_type": "code",
   "execution_count": null,
   "metadata": {},
   "outputs": [],
   "source": [
    "test_data_transformed = convert_date_recorded(test_data_transformed)"
   ]
  },
  {
   "cell_type": "code",
   "execution_count": null,
   "metadata": {},
   "outputs": [],
   "source": [
    "### Mapping long and lat to city"
   ]
  },
  {
   "cell_type": "markdown",
   "metadata": {},
   "source": [
    "### Binning"
   ]
  },
  {
   "cell_type": "code",
   "execution_count": 79,
   "metadata": {},
   "outputs": [
    {
     "ename": "KeyError",
     "evalue": "'days_since_recorded'",
     "output_type": "error",
     "traceback": [
      "\u001b[0;31m---------------------------------------------------------------------------\u001b[0m",
      "\u001b[0;31mKeyError\u001b[0m                                  Traceback (most recent call last)",
      "\u001b[0;32m~/anaconda/envs/intro_python/lib/python3.7/site-packages/pandas/core/indexes/base.py\u001b[0m in \u001b[0;36mget_loc\u001b[0;34m(self, key, method, tolerance)\u001b[0m\n\u001b[1;32m   2655\u001b[0m             \u001b[0;32mtry\u001b[0m\u001b[0;34m:\u001b[0m\u001b[0;34m\u001b[0m\u001b[0;34m\u001b[0m\u001b[0m\n\u001b[0;32m-> 2656\u001b[0;31m                 \u001b[0;32mreturn\u001b[0m \u001b[0mself\u001b[0m\u001b[0;34m.\u001b[0m\u001b[0m_engine\u001b[0m\u001b[0;34m.\u001b[0m\u001b[0mget_loc\u001b[0m\u001b[0;34m(\u001b[0m\u001b[0mkey\u001b[0m\u001b[0;34m)\u001b[0m\u001b[0;34m\u001b[0m\u001b[0;34m\u001b[0m\u001b[0m\n\u001b[0m\u001b[1;32m   2657\u001b[0m             \u001b[0;32mexcept\u001b[0m \u001b[0mKeyError\u001b[0m\u001b[0;34m:\u001b[0m\u001b[0;34m\u001b[0m\u001b[0;34m\u001b[0m\u001b[0m\n",
      "\u001b[0;32mpandas/_libs/index.pyx\u001b[0m in \u001b[0;36mpandas._libs.index.IndexEngine.get_loc\u001b[0;34m()\u001b[0m\n",
      "\u001b[0;32mpandas/_libs/index.pyx\u001b[0m in \u001b[0;36mpandas._libs.index.IndexEngine.get_loc\u001b[0;34m()\u001b[0m\n",
      "\u001b[0;32mpandas/_libs/hashtable_class_helper.pxi\u001b[0m in \u001b[0;36mpandas._libs.hashtable.PyObjectHashTable.get_item\u001b[0;34m()\u001b[0m\n",
      "\u001b[0;32mpandas/_libs/hashtable_class_helper.pxi\u001b[0m in \u001b[0;36mpandas._libs.hashtable.PyObjectHashTable.get_item\u001b[0;34m()\u001b[0m\n",
      "\u001b[0;31mKeyError\u001b[0m: 'days_since_recorded'",
      "\nDuring handling of the above exception, another exception occurred:\n",
      "\u001b[0;31mKeyError\u001b[0m                                  Traceback (most recent call last)",
      "\u001b[0;32m<ipython-input-79-efb54cea0904>\u001b[0m in \u001b[0;36m<module>\u001b[0;34m\u001b[0m\n\u001b[0;32m----> 1\u001b[0;31m \u001b[0mtrain_data_transformed\u001b[0m \u001b[0;34m=\u001b[0m \u001b[0mbin_feature\u001b[0m\u001b[0;34m(\u001b[0m\u001b[0mtrain_data_transformed\u001b[0m\u001b[0;34m,\u001b[0m \u001b[0;34m\"days_since_recorded\"\u001b[0m\u001b[0;34m,\u001b[0m \u001b[0;36m10\u001b[0m\u001b[0;34m)\u001b[0m\u001b[0;34m\u001b[0m\u001b[0;34m\u001b[0m\u001b[0m\n\u001b[0m",
      "\u001b[0;32m~/Documents/GitHub/ML_project1/data_prep.py\u001b[0m in \u001b[0;36mbin_feature\u001b[0;34m(dataset, feature, bins)\u001b[0m\n\u001b[1;32m    235\u001b[0m \"\"\"\n\u001b[1;32m    236\u001b[0m \u001b[0;32mdef\u001b[0m \u001b[0mbin_feature\u001b[0m\u001b[0;34m(\u001b[0m\u001b[0mdataset\u001b[0m\u001b[0;34m,\u001b[0m \u001b[0mfeature\u001b[0m\u001b[0;34m,\u001b[0m \u001b[0mbins\u001b[0m\u001b[0;34m)\u001b[0m\u001b[0;34m:\u001b[0m\u001b[0;34m\u001b[0m\u001b[0;34m\u001b[0m\u001b[0m\n\u001b[0;32m--> 237\u001b[0;31m     \u001b[0mdataset\u001b[0m\u001b[0;34m[\u001b[0m\u001b[0mfeature\u001b[0m\u001b[0;34m]\u001b[0m \u001b[0;34m=\u001b[0m \u001b[0mpd\u001b[0m\u001b[0;34m.\u001b[0m\u001b[0mcut\u001b[0m\u001b[0;34m(\u001b[0m\u001b[0mdataset\u001b[0m\u001b[0;34m[\u001b[0m\u001b[0mfeature\u001b[0m\u001b[0;34m]\u001b[0m \u001b[0;34m,\u001b[0m \u001b[0mbins\u001b[0m\u001b[0;34m)\u001b[0m\u001b[0;34m\u001b[0m\u001b[0;34m\u001b[0m\u001b[0m\n\u001b[0m\u001b[1;32m    238\u001b[0m     \u001b[0mprint\u001b[0m\u001b[0;34m(\u001b[0m\u001b[0;34m\"`{}` has been binned to {} categories:\"\u001b[0m\u001b[0;34m.\u001b[0m\u001b[0mformat\u001b[0m\u001b[0;34m(\u001b[0m\u001b[0mfeature\u001b[0m\u001b[0;34m,\u001b[0m \u001b[0mbins\u001b[0m\u001b[0;34m)\u001b[0m\u001b[0;34m)\u001b[0m\u001b[0;34m\u001b[0m\u001b[0;34m\u001b[0m\u001b[0m\n\u001b[1;32m    239\u001b[0m     \u001b[0mprint\u001b[0m\u001b[0;34m(\u001b[0m\u001b[0mdataset\u001b[0m\u001b[0;34m[\u001b[0m\u001b[0mfeature\u001b[0m\u001b[0;34m]\u001b[0m\u001b[0;34m.\u001b[0m\u001b[0munique\u001b[0m\u001b[0;34m(\u001b[0m\u001b[0;34m)\u001b[0m\u001b[0;34m.\u001b[0m\u001b[0mcategories\u001b[0m\u001b[0;34m)\u001b[0m\u001b[0;34m\u001b[0m\u001b[0;34m\u001b[0m\u001b[0m\n",
      "\u001b[0;32m~/anaconda/envs/intro_python/lib/python3.7/site-packages/pandas/core/frame.py\u001b[0m in \u001b[0;36m__getitem__\u001b[0;34m(self, key)\u001b[0m\n\u001b[1;32m   2925\u001b[0m             \u001b[0;32mif\u001b[0m \u001b[0mself\u001b[0m\u001b[0;34m.\u001b[0m\u001b[0mcolumns\u001b[0m\u001b[0;34m.\u001b[0m\u001b[0mnlevels\u001b[0m \u001b[0;34m>\u001b[0m \u001b[0;36m1\u001b[0m\u001b[0;34m:\u001b[0m\u001b[0;34m\u001b[0m\u001b[0;34m\u001b[0m\u001b[0m\n\u001b[1;32m   2926\u001b[0m                 \u001b[0;32mreturn\u001b[0m \u001b[0mself\u001b[0m\u001b[0;34m.\u001b[0m\u001b[0m_getitem_multilevel\u001b[0m\u001b[0;34m(\u001b[0m\u001b[0mkey\u001b[0m\u001b[0;34m)\u001b[0m\u001b[0;34m\u001b[0m\u001b[0;34m\u001b[0m\u001b[0m\n\u001b[0;32m-> 2927\u001b[0;31m             \u001b[0mindexer\u001b[0m \u001b[0;34m=\u001b[0m \u001b[0mself\u001b[0m\u001b[0;34m.\u001b[0m\u001b[0mcolumns\u001b[0m\u001b[0;34m.\u001b[0m\u001b[0mget_loc\u001b[0m\u001b[0;34m(\u001b[0m\u001b[0mkey\u001b[0m\u001b[0;34m)\u001b[0m\u001b[0;34m\u001b[0m\u001b[0;34m\u001b[0m\u001b[0m\n\u001b[0m\u001b[1;32m   2928\u001b[0m             \u001b[0;32mif\u001b[0m \u001b[0mis_integer\u001b[0m\u001b[0;34m(\u001b[0m\u001b[0mindexer\u001b[0m\u001b[0;34m)\u001b[0m\u001b[0;34m:\u001b[0m\u001b[0;34m\u001b[0m\u001b[0;34m\u001b[0m\u001b[0m\n\u001b[1;32m   2929\u001b[0m                 \u001b[0mindexer\u001b[0m \u001b[0;34m=\u001b[0m \u001b[0;34m[\u001b[0m\u001b[0mindexer\u001b[0m\u001b[0;34m]\u001b[0m\u001b[0;34m\u001b[0m\u001b[0;34m\u001b[0m\u001b[0m\n",
      "\u001b[0;32m~/anaconda/envs/intro_python/lib/python3.7/site-packages/pandas/core/indexes/base.py\u001b[0m in \u001b[0;36mget_loc\u001b[0;34m(self, key, method, tolerance)\u001b[0m\n\u001b[1;32m   2656\u001b[0m                 \u001b[0;32mreturn\u001b[0m \u001b[0mself\u001b[0m\u001b[0;34m.\u001b[0m\u001b[0m_engine\u001b[0m\u001b[0;34m.\u001b[0m\u001b[0mget_loc\u001b[0m\u001b[0;34m(\u001b[0m\u001b[0mkey\u001b[0m\u001b[0;34m)\u001b[0m\u001b[0;34m\u001b[0m\u001b[0;34m\u001b[0m\u001b[0m\n\u001b[1;32m   2657\u001b[0m             \u001b[0;32mexcept\u001b[0m \u001b[0mKeyError\u001b[0m\u001b[0;34m:\u001b[0m\u001b[0;34m\u001b[0m\u001b[0;34m\u001b[0m\u001b[0m\n\u001b[0;32m-> 2658\u001b[0;31m                 \u001b[0;32mreturn\u001b[0m \u001b[0mself\u001b[0m\u001b[0;34m.\u001b[0m\u001b[0m_engine\u001b[0m\u001b[0;34m.\u001b[0m\u001b[0mget_loc\u001b[0m\u001b[0;34m(\u001b[0m\u001b[0mself\u001b[0m\u001b[0;34m.\u001b[0m\u001b[0m_maybe_cast_indexer\u001b[0m\u001b[0;34m(\u001b[0m\u001b[0mkey\u001b[0m\u001b[0;34m)\u001b[0m\u001b[0;34m)\u001b[0m\u001b[0;34m\u001b[0m\u001b[0;34m\u001b[0m\u001b[0m\n\u001b[0m\u001b[1;32m   2659\u001b[0m         \u001b[0mindexer\u001b[0m \u001b[0;34m=\u001b[0m \u001b[0mself\u001b[0m\u001b[0;34m.\u001b[0m\u001b[0mget_indexer\u001b[0m\u001b[0;34m(\u001b[0m\u001b[0;34m[\u001b[0m\u001b[0mkey\u001b[0m\u001b[0;34m]\u001b[0m\u001b[0;34m,\u001b[0m \u001b[0mmethod\u001b[0m\u001b[0;34m=\u001b[0m\u001b[0mmethod\u001b[0m\u001b[0;34m,\u001b[0m \u001b[0mtolerance\u001b[0m\u001b[0;34m=\u001b[0m\u001b[0mtolerance\u001b[0m\u001b[0;34m)\u001b[0m\u001b[0;34m\u001b[0m\u001b[0;34m\u001b[0m\u001b[0m\n\u001b[1;32m   2660\u001b[0m         \u001b[0;32mif\u001b[0m \u001b[0mindexer\u001b[0m\u001b[0;34m.\u001b[0m\u001b[0mndim\u001b[0m \u001b[0;34m>\u001b[0m \u001b[0;36m1\u001b[0m \u001b[0;32mor\u001b[0m \u001b[0mindexer\u001b[0m\u001b[0;34m.\u001b[0m\u001b[0msize\u001b[0m \u001b[0;34m>\u001b[0m \u001b[0;36m1\u001b[0m\u001b[0;34m:\u001b[0m\u001b[0;34m\u001b[0m\u001b[0;34m\u001b[0m\u001b[0m\n",
      "\u001b[0;32mpandas/_libs/index.pyx\u001b[0m in \u001b[0;36mpandas._libs.index.IndexEngine.get_loc\u001b[0;34m()\u001b[0m\n",
      "\u001b[0;32mpandas/_libs/index.pyx\u001b[0m in \u001b[0;36mpandas._libs.index.IndexEngine.get_loc\u001b[0;34m()\u001b[0m\n",
      "\u001b[0;32mpandas/_libs/hashtable_class_helper.pxi\u001b[0m in \u001b[0;36mpandas._libs.hashtable.PyObjectHashTable.get_item\u001b[0;34m()\u001b[0m\n",
      "\u001b[0;32mpandas/_libs/hashtable_class_helper.pxi\u001b[0m in \u001b[0;36mpandas._libs.hashtable.PyObjectHashTable.get_item\u001b[0;34m()\u001b[0m\n",
      "\u001b[0;31mKeyError\u001b[0m: 'days_since_recorded'"
     ]
    }
   ],
   "source": [
    "train_data_transformed = bin_feature(train_data_transformed, \"days_since_recoreded\", 10)"
   ]
  },
  {
   "cell_type": "code",
   "execution_count": null,
   "metadata": {},
   "outputs": [],
   "source": [
    "test_data_transformed = bin_feature(test_data_transformed, \"days_since_recoreded\", 10)"
   ]
  },
  {
   "cell_type": "code",
   "execution_count": 62,
   "metadata": {},
   "outputs": [
    {
     "data": {
      "text/plain": [
       "['quantity',\n",
       " 'source_class',\n",
       " 'extraction_type_group',\n",
       " 'management_group',\n",
       " 'region',\n",
       " 'basin',\n",
       " 'management',\n",
       " 'district_code',\n",
       " 'source',\n",
       " 'status_group',\n",
       " 'installer',\n",
       " 'ward',\n",
       " 'public_meeting',\n",
       " 'region_code',\n",
       " 'quality_group',\n",
       " 'quantity_group',\n",
       " 'water_quality',\n",
       " 'payment_type',\n",
       " 'payment',\n",
       " 'subvillage',\n",
       " 'source_type',\n",
       " 'extraction_type',\n",
       " 'Flag_longitude',\n",
       " 'date_recorded',\n",
       " 'waterpoint_type',\n",
       " 'extraction_type_class',\n",
       " 'scheme_management',\n",
       " 'permit',\n",
       " 'funder',\n",
       " 'lga',\n",
       " 'construction_year']"
      ]
     },
     "execution_count": 62,
     "metadata": {},
     "output_type": "execute_result"
    }
   ],
   "source": [
    "numerical = ['amount_tsh', 'gps_height', 'num_private', 'population']\n",
    "other = ['longitude', 'latitude', \"status_code\"]\n",
    "categorical = list(set(train_data_transformed.columns) - set(numerical) - set(other))\n",
    "categorical"
   ]
  },
  {
   "cell_type": "markdown",
   "metadata": {},
   "source": [
    "### Fixing the Skewness"
   ]
  },
  {
   "cell_type": "code",
   "execution_count": null,
   "metadata": {},
   "outputs": [],
   "source": [
    "train_temp['latitude'] = train_temp[\"latitude\"].astype('category') \n",
    "train_temp['longitude'] = train_temp[\"longitude\"].astype('category') \n",
    "\n",
    "test_temp['latitude'] = test_temp[\"latitude\"].astype('category') \n",
    "test_temp['longitude'] = test_temp[\"longitude\"].astype('category') "
   ]
  },
  {
   "cell_type": "code",
   "execution_count": 63,
   "metadata": {},
   "outputs": [
    {
     "ename": "NameError",
     "evalue": "name 'test_temp' is not defined",
     "output_type": "error",
     "traceback": [
      "\u001b[0;31m---------------------------------------------------------------------------\u001b[0m",
      "\u001b[0;31mNameError\u001b[0m                                 Traceback (most recent call last)",
      "\u001b[0;32m<ipython-input-63-d5f848bee2dd>\u001b[0m in \u001b[0;36m<module>\u001b[0;34m\u001b[0m\n\u001b[0;32m----> 1\u001b[0;31m \u001b[0mfeature_skewness\u001b[0m\u001b[0;34m(\u001b[0m\u001b[0mtest_temp\u001b[0m\u001b[0;34m)\u001b[0m\u001b[0;34m\u001b[0m\u001b[0;34m\u001b[0m\u001b[0m\n\u001b[0m\u001b[1;32m      2\u001b[0m \u001b[0mfeature_skewness\u001b[0m\u001b[0;34m(\u001b[0m\u001b[0mtrain_temp\u001b[0m\u001b[0;34m)\u001b[0m\u001b[0;34m\u001b[0m\u001b[0;34m\u001b[0m\u001b[0m\n",
      "\u001b[0;31mNameError\u001b[0m: name 'test_temp' is not defined"
     ]
    }
   ],
   "source": [
    "feature_skewness(test_temp)\n",
    "feature_skewness(train_temp)\n"
   ]
  },
  {
   "cell_type": "code",
   "execution_count": null,
   "metadata": {},
   "outputs": [],
   "source": [
    "test_temp = fix_skewness(test_temp)\n",
    "train_temp = fix_skewness(train_temp)"
   ]
  },
  {
   "cell_type": "markdown",
   "metadata": {},
   "source": [
    "# Correlation matrix"
   ]
  },
  {
   "cell_type": "code",
   "execution_count": null,
   "metadata": {},
   "outputs": [],
   "source": [
    "plt.pyplot.figure(figsize=(20,10))\n",
    "sns.heatmap(train_data_transformed.corr(),cbar=True,fmt =' .2f', annot=True, cmap='viridis')"
   ]
  },
  {
   "cell_type": "markdown",
   "metadata": {},
   "source": [
    "# Hot Encode & Save Data"
   ]
  },
  {
   "cell_type": "code",
   "execution_count": null,
   "metadata": {},
   "outputs": [],
   "source": [
    "len(train_temp.columns)"
   ]
  },
  {
   "cell_type": "code",
   "execution_count": null,
   "metadata": {},
   "outputs": [],
   "source": [
    "len(test_temp.columns)"
   ]
  },
  {
   "cell_type": "code",
   "execution_count": 14,
   "metadata": {},
   "outputs": [],
   "source": [
    "#train_data_transformed.status_group.replace(['functional', 'non functional','functional needs repair'], [1, 2, 3], inplace=True)\n",
    "labels_prepared = train_data_transformed[[\"status_group\"]]\n",
    "train_data_transformed = train_data_transformed.drop(columns=[\"status_group\"])\n",
    "#train_data_transformed = onehot_encode(train_data_transformed)\n",
    "train_data_transformed.to_csv(\"train_data_prepared.csv\")\n",
    "labels_prepared.to_csv(\"labels_prepared.csv\")"
   ]
  },
  {
   "cell_type": "code",
   "execution_count": null,
   "metadata": {},
   "outputs": [],
   "source": [
    "test_data_transformed.to_csv(\"test_data_prepared.csv\")"
   ]
  },
  {
   "cell_type": "code",
   "execution_count": 85,
   "metadata": {},
   "outputs": [],
   "source": [
    "def label_encoder(df):\n",
    "    categorical = categorical_features(df)\n",
    "    # Creating the label encoder object\n",
    "    le =  LabelEncoder()\n",
    "    \n",
    "    # Iterating over the \"object\" variables to transform the categories into numbers \n",
    "    for col in categorical:\n",
    "        df[col] = le.fit_transform(df[col].astype(str))\n",
    "    return df"
   ]
  },
  {
   "cell_type": "code",
   "execution_count": 86,
   "metadata": {},
   "outputs": [],
   "source": [
    "from sklearn.ensemble import RandomForestClassifier\n",
    "from sklearn.pipeline import make_pipeline\n",
    "def cv_evaluate(df, splits=10):\n",
    "    rf = RandomForestClassifier()\n",
    "    kfolds = KFold(n_splits=splits, shuffle=True, random_state=42)\n",
    "\n",
    "    X = df.drop(['status_group'],axis=1)\n",
    "    y = df.loc[:, 'status_group']\n",
    "    X = label_encoder(X)\n",
    "    benchmark_model = make_pipeline( rf).fit(X=X, y=y)\n",
    "    scores = cross_val_score(benchmark_model, X, y, scoring='accuracy', cv=kfolds)\n",
    "    \n",
    "    return scores\n",
    "\n",
    "\n",
    "\n",
    "def feature_engineering_pipeline(raw_data, fe_functions):\n",
    "    selected_functions = []\n",
    "    base_score  = np.mean(cv_evaluate(raw_data))\n",
    "    print('Base Score: {:.4f}'.format(base_score))\n",
    "    engineered_data = raw_data.copy()\n",
    "    for fe_function in fe_functions:\n",
    "        processed_data = globals()[fe_function](engineered_data)\n",
    "        new_score  = np.mean(cv_evaluate(processed_data))\n",
    "        print('- New mean Score ({}): {:.4f} '.format(fe_function, new_score), \n",
    "              end='')\n",
    "        difference = (new_score-base_score)\n",
    "        print('[diff: {:.4f}] '.format(difference), end='')\n",
    "        if difference > -0.01:\n",
    "            selected_functions.append(fe_function)\n",
    "            engineered_data = processed_data.copy()\n",
    "            base_score = new_score\n",
    "            print('[Accepted]')\n",
    "        else:\n",
    "            print('[Rejected]')\n",
    "    return selected_functions , engineered_data \n"
   ]
  },
  {
   "cell_type": "code",
   "execution_count": 87,
   "metadata": {},
   "outputs": [
    {
     "name": "stdout",
     "output_type": "stream",
     "text": [
      "Base Score: 0.8006\n",
      "amount_tsh imputed with mean for regions: ['Dodoma','Kagera','Mbeya','Tabora']\n",
      "- New mean Score (amount_tsh_impute_regions): 0.8025 [diff: 0.0019] [Accepted]\n",
      "latitude imputed with mean\n",
      "- New mean Score (impute_lat): 0.8016 [diff: -0.0009] [Accepted]\n",
      "longitude imputed with mean\n",
      "- New mean Score (impute_long): 0.8005 [diff: -0.0011] [Accepted]\n",
      "population imputed with mean\n",
      "- New mean Score (impute_pop): 0.8025 [diff: 0.0020] [Accepted]\n",
      "- New mean Score (density): 0.8004 [diff: -0.0021] [Accepted]\n",
      "`construction_year` converted to `age`, which is elapsed years (zeroes ignored) \n",
      "\n",
      "- New mean Score (convert_construction_year): 0.8005 [diff: 0.0001] [Accepted]\n",
      "- New mean Score (fix_skewness): 0.8011 [diff: 0.0007] [Accepted]\n",
      "Dataset shape AFTER feature engineering: (59400, 38)\n"
     ]
    }
   ],
   "source": [
    "fe_functions=['amount_tsh_impute_regions',\n",
    "             'impute_lat',\n",
    "             'impute_long',\n",
    "             'impute_pop',\n",
    "             'density',\n",
    "             'convert_construction_year',\n",
    "             'fix_skewness']\n",
    "\n",
    "sf , ND= feature_engineering_pipeline(train_data_transformed, fe_functions)\n",
    "print('Dataset shape AFTER feature engineering: {}'.format(ND.shape))"
   ]
  },
  {
   "cell_type": "code",
   "execution_count": null,
   "metadata": {},
   "outputs": [],
   "source": [
    "RF_parameters = {'n_estimators': [10, 30 ,100],\n",
    "                                             'bootstrap': [True],\n",
    "                                             'max_depth': [80, 100 ],\n",
    "                                             'max_features': ['sqrt',16 ,32],\n",
    "                                             'min_samples_leaf': [2,  5 , 8],\n",
    "                                             'min_samples_split': [ 10 , 8 , 15],\n",
    "                                            'random_state':[42],\n",
    "                                            'criterion':['accuracy']}\n",
    "rf = GridSearchCV(RandomForestClassifier(),\n",
    "                                 param_grid= RF_parameters,\n",
    "                                 cv=KFold(5))\n",
    "X = ND.drop(['status_group'],axis=1)\n",
    "y = ND.loc[:, 'status_group']\n",
    "\n",
    "rf.fit(X, Y)\n",
    "rf.cv_results_\n",
    "#rf_predictions = lm.predict(X_Test_2012Q3)\n",
    "#rf.score(X_Test_2012Q3, Y_cnt_test_2012Q3)"
   ]
  },
  {
   "cell_type": "code",
   "execution_count": 54,
   "metadata": {},
   "outputs": [],
   "source": [
    " X = train_data_transformed[['longitude','latitude']]\n",
    "y = train_data_transformed['status_group']"
   ]
  },
  {
   "cell_type": "code",
   "execution_count": 59,
   "metadata": {},
   "outputs": [
    {
     "name": "stdout",
     "output_type": "stream",
     "text": [
      "% correct = 67.03907764513826\n"
     ]
    }
   ],
   "source": [
    "from sklearn.neighbors import KNeighborsClassifier\n",
    "from sklearn.model_selection import train_test_split\n",
    "import scipy as sp\n",
    "X_train, X_test, y_train, y_test = train_test_split(X, y, test_size=0.33, random_state=45)\n",
    "neigh = KNeighborsClassifier(n_neighbors=7)\n",
    "neigh.fit(X_train, y_train)\n",
    "predVal=neigh.predict(X_test)\n",
    "mat=[predVal,y_test]\n",
    "df=pd.DataFrame(mat).transpose()\n",
    "df.columns=('h0','y')\n",
    "df['diff']=np.where(df.h0==df.y,1,0)\n",
    "print('% correct =',sum(df['diff'])/len(df['diff'])*100)"
   ]
  },
  {
   "cell_type": "code",
   "execution_count": 88,
   "metadata": {},
   "outputs": [
    {
     "data": {
      "text/plain": [
       "array(['functional', 'functional', 'functional', ..., 'functional',\n",
       "       'non functional', 'functional'], dtype=object)"
      ]
     },
     "execution_count": 88,
     "metadata": {},
     "output_type": "execute_result"
    }
   ],
   "source": []
  },
  {
   "cell_type": "code",
   "execution_count": 61,
   "metadata": {},
   "outputs": [
    {
     "data": {
      "text/html": [
       "<div>\n",
       "<style scoped>\n",
       "    .dataframe tbody tr th:only-of-type {\n",
       "        vertical-align: middle;\n",
       "    }\n",
       "\n",
       "    .dataframe tbody tr th {\n",
       "        vertical-align: top;\n",
       "    }\n",
       "\n",
       "    .dataframe thead th {\n",
       "        text-align: right;\n",
       "    }\n",
       "</style>\n",
       "<table border=\"1\" class=\"dataframe\">\n",
       "  <thead>\n",
       "    <tr style=\"text-align: right;\">\n",
       "      <th></th>\n",
       "      <th>h0</th>\n",
       "      <th>y</th>\n",
       "      <th>diff</th>\n",
       "    </tr>\n",
       "  </thead>\n",
       "  <tbody>\n",
       "    <tr>\n",
       "      <th>0</th>\n",
       "      <td>functional</td>\n",
       "      <td>functional</td>\n",
       "      <td>1</td>\n",
       "    </tr>\n",
       "    <tr>\n",
       "      <th>1</th>\n",
       "      <td>functional</td>\n",
       "      <td>functional</td>\n",
       "      <td>1</td>\n",
       "    </tr>\n",
       "    <tr>\n",
       "      <th>2</th>\n",
       "      <td>functional</td>\n",
       "      <td>functional</td>\n",
       "      <td>1</td>\n",
       "    </tr>\n",
       "    <tr>\n",
       "      <th>3</th>\n",
       "      <td>non functional</td>\n",
       "      <td>non functional</td>\n",
       "      <td>1</td>\n",
       "    </tr>\n",
       "    <tr>\n",
       "      <th>4</th>\n",
       "      <td>functional</td>\n",
       "      <td>functional</td>\n",
       "      <td>1</td>\n",
       "    </tr>\n",
       "    <tr>\n",
       "      <th>5</th>\n",
       "      <td>non functional</td>\n",
       "      <td>non functional</td>\n",
       "      <td>1</td>\n",
       "    </tr>\n",
       "    <tr>\n",
       "      <th>6</th>\n",
       "      <td>functional</td>\n",
       "      <td>functional</td>\n",
       "      <td>1</td>\n",
       "    </tr>\n",
       "    <tr>\n",
       "      <th>7</th>\n",
       "      <td>non functional</td>\n",
       "      <td>functional</td>\n",
       "      <td>0</td>\n",
       "    </tr>\n",
       "    <tr>\n",
       "      <th>8</th>\n",
       "      <td>non functional</td>\n",
       "      <td>functional</td>\n",
       "      <td>0</td>\n",
       "    </tr>\n",
       "    <tr>\n",
       "      <th>9</th>\n",
       "      <td>functional</td>\n",
       "      <td>functional</td>\n",
       "      <td>1</td>\n",
       "    </tr>\n",
       "    <tr>\n",
       "      <th>10</th>\n",
       "      <td>functional</td>\n",
       "      <td>functional</td>\n",
       "      <td>1</td>\n",
       "    </tr>\n",
       "    <tr>\n",
       "      <th>11</th>\n",
       "      <td>functional</td>\n",
       "      <td>non functional</td>\n",
       "      <td>0</td>\n",
       "    </tr>\n",
       "    <tr>\n",
       "      <th>12</th>\n",
       "      <td>functional</td>\n",
       "      <td>non functional</td>\n",
       "      <td>0</td>\n",
       "    </tr>\n",
       "    <tr>\n",
       "      <th>13</th>\n",
       "      <td>functional</td>\n",
       "      <td>functional</td>\n",
       "      <td>1</td>\n",
       "    </tr>\n",
       "    <tr>\n",
       "      <th>14</th>\n",
       "      <td>non functional</td>\n",
       "      <td>non functional</td>\n",
       "      <td>1</td>\n",
       "    </tr>\n",
       "    <tr>\n",
       "      <th>15</th>\n",
       "      <td>non functional</td>\n",
       "      <td>functional</td>\n",
       "      <td>0</td>\n",
       "    </tr>\n",
       "    <tr>\n",
       "      <th>16</th>\n",
       "      <td>functional</td>\n",
       "      <td>functional</td>\n",
       "      <td>1</td>\n",
       "    </tr>\n",
       "    <tr>\n",
       "      <th>17</th>\n",
       "      <td>non functional</td>\n",
       "      <td>functional</td>\n",
       "      <td>0</td>\n",
       "    </tr>\n",
       "    <tr>\n",
       "      <th>18</th>\n",
       "      <td>functional</td>\n",
       "      <td>functional</td>\n",
       "      <td>1</td>\n",
       "    </tr>\n",
       "    <tr>\n",
       "      <th>19</th>\n",
       "      <td>non functional</td>\n",
       "      <td>functional</td>\n",
       "      <td>0</td>\n",
       "    </tr>\n",
       "    <tr>\n",
       "      <th>20</th>\n",
       "      <td>functional</td>\n",
       "      <td>functional needs repair</td>\n",
       "      <td>0</td>\n",
       "    </tr>\n",
       "    <tr>\n",
       "      <th>21</th>\n",
       "      <td>functional</td>\n",
       "      <td>functional</td>\n",
       "      <td>1</td>\n",
       "    </tr>\n",
       "    <tr>\n",
       "      <th>22</th>\n",
       "      <td>non functional</td>\n",
       "      <td>non functional</td>\n",
       "      <td>1</td>\n",
       "    </tr>\n",
       "    <tr>\n",
       "      <th>23</th>\n",
       "      <td>functional</td>\n",
       "      <td>functional</td>\n",
       "      <td>1</td>\n",
       "    </tr>\n",
       "    <tr>\n",
       "      <th>24</th>\n",
       "      <td>functional</td>\n",
       "      <td>functional</td>\n",
       "      <td>1</td>\n",
       "    </tr>\n",
       "    <tr>\n",
       "      <th>25</th>\n",
       "      <td>functional</td>\n",
       "      <td>functional</td>\n",
       "      <td>1</td>\n",
       "    </tr>\n",
       "    <tr>\n",
       "      <th>26</th>\n",
       "      <td>non functional</td>\n",
       "      <td>non functional</td>\n",
       "      <td>1</td>\n",
       "    </tr>\n",
       "    <tr>\n",
       "      <th>27</th>\n",
       "      <td>functional</td>\n",
       "      <td>non functional</td>\n",
       "      <td>0</td>\n",
       "    </tr>\n",
       "    <tr>\n",
       "      <th>28</th>\n",
       "      <td>non functional</td>\n",
       "      <td>non functional</td>\n",
       "      <td>1</td>\n",
       "    </tr>\n",
       "    <tr>\n",
       "      <th>29</th>\n",
       "      <td>functional</td>\n",
       "      <td>functional</td>\n",
       "      <td>1</td>\n",
       "    </tr>\n",
       "    <tr>\n",
       "      <th>...</th>\n",
       "      <td>...</td>\n",
       "      <td>...</td>\n",
       "      <td>...</td>\n",
       "    </tr>\n",
       "    <tr>\n",
       "      <th>19572</th>\n",
       "      <td>functional needs repair</td>\n",
       "      <td>non functional</td>\n",
       "      <td>0</td>\n",
       "    </tr>\n",
       "    <tr>\n",
       "      <th>19573</th>\n",
       "      <td>functional</td>\n",
       "      <td>functional</td>\n",
       "      <td>1</td>\n",
       "    </tr>\n",
       "    <tr>\n",
       "      <th>19574</th>\n",
       "      <td>non functional</td>\n",
       "      <td>non functional</td>\n",
       "      <td>1</td>\n",
       "    </tr>\n",
       "    <tr>\n",
       "      <th>19575</th>\n",
       "      <td>functional</td>\n",
       "      <td>non functional</td>\n",
       "      <td>0</td>\n",
       "    </tr>\n",
       "    <tr>\n",
       "      <th>19576</th>\n",
       "      <td>functional</td>\n",
       "      <td>functional needs repair</td>\n",
       "      <td>0</td>\n",
       "    </tr>\n",
       "    <tr>\n",
       "      <th>19577</th>\n",
       "      <td>non functional</td>\n",
       "      <td>functional</td>\n",
       "      <td>0</td>\n",
       "    </tr>\n",
       "    <tr>\n",
       "      <th>19578</th>\n",
       "      <td>non functional</td>\n",
       "      <td>non functional</td>\n",
       "      <td>1</td>\n",
       "    </tr>\n",
       "    <tr>\n",
       "      <th>19579</th>\n",
       "      <td>functional</td>\n",
       "      <td>functional</td>\n",
       "      <td>1</td>\n",
       "    </tr>\n",
       "    <tr>\n",
       "      <th>19580</th>\n",
       "      <td>functional</td>\n",
       "      <td>non functional</td>\n",
       "      <td>0</td>\n",
       "    </tr>\n",
       "    <tr>\n",
       "      <th>19581</th>\n",
       "      <td>non functional</td>\n",
       "      <td>non functional</td>\n",
       "      <td>1</td>\n",
       "    </tr>\n",
       "    <tr>\n",
       "      <th>19582</th>\n",
       "      <td>non functional</td>\n",
       "      <td>non functional</td>\n",
       "      <td>1</td>\n",
       "    </tr>\n",
       "    <tr>\n",
       "      <th>19583</th>\n",
       "      <td>functional</td>\n",
       "      <td>functional</td>\n",
       "      <td>1</td>\n",
       "    </tr>\n",
       "    <tr>\n",
       "      <th>19584</th>\n",
       "      <td>functional</td>\n",
       "      <td>functional</td>\n",
       "      <td>1</td>\n",
       "    </tr>\n",
       "    <tr>\n",
       "      <th>19585</th>\n",
       "      <td>functional</td>\n",
       "      <td>functional needs repair</td>\n",
       "      <td>0</td>\n",
       "    </tr>\n",
       "    <tr>\n",
       "      <th>19586</th>\n",
       "      <td>non functional</td>\n",
       "      <td>functional</td>\n",
       "      <td>0</td>\n",
       "    </tr>\n",
       "    <tr>\n",
       "      <th>19587</th>\n",
       "      <td>functional</td>\n",
       "      <td>functional</td>\n",
       "      <td>1</td>\n",
       "    </tr>\n",
       "    <tr>\n",
       "      <th>19588</th>\n",
       "      <td>functional</td>\n",
       "      <td>functional</td>\n",
       "      <td>1</td>\n",
       "    </tr>\n",
       "    <tr>\n",
       "      <th>19589</th>\n",
       "      <td>non functional</td>\n",
       "      <td>non functional</td>\n",
       "      <td>1</td>\n",
       "    </tr>\n",
       "    <tr>\n",
       "      <th>19590</th>\n",
       "      <td>functional</td>\n",
       "      <td>non functional</td>\n",
       "      <td>0</td>\n",
       "    </tr>\n",
       "    <tr>\n",
       "      <th>19591</th>\n",
       "      <td>functional</td>\n",
       "      <td>functional</td>\n",
       "      <td>1</td>\n",
       "    </tr>\n",
       "    <tr>\n",
       "      <th>19592</th>\n",
       "      <td>functional</td>\n",
       "      <td>non functional</td>\n",
       "      <td>0</td>\n",
       "    </tr>\n",
       "    <tr>\n",
       "      <th>19593</th>\n",
       "      <td>non functional</td>\n",
       "      <td>non functional</td>\n",
       "      <td>1</td>\n",
       "    </tr>\n",
       "    <tr>\n",
       "      <th>19594</th>\n",
       "      <td>functional</td>\n",
       "      <td>functional</td>\n",
       "      <td>1</td>\n",
       "    </tr>\n",
       "    <tr>\n",
       "      <th>19595</th>\n",
       "      <td>non functional</td>\n",
       "      <td>non functional</td>\n",
       "      <td>1</td>\n",
       "    </tr>\n",
       "    <tr>\n",
       "      <th>19596</th>\n",
       "      <td>functional</td>\n",
       "      <td>functional</td>\n",
       "      <td>1</td>\n",
       "    </tr>\n",
       "    <tr>\n",
       "      <th>19597</th>\n",
       "      <td>non functional</td>\n",
       "      <td>non functional</td>\n",
       "      <td>1</td>\n",
       "    </tr>\n",
       "    <tr>\n",
       "      <th>19598</th>\n",
       "      <td>functional</td>\n",
       "      <td>functional</td>\n",
       "      <td>1</td>\n",
       "    </tr>\n",
       "    <tr>\n",
       "      <th>19599</th>\n",
       "      <td>functional</td>\n",
       "      <td>functional</td>\n",
       "      <td>1</td>\n",
       "    </tr>\n",
       "    <tr>\n",
       "      <th>19600</th>\n",
       "      <td>non functional</td>\n",
       "      <td>non functional</td>\n",
       "      <td>1</td>\n",
       "    </tr>\n",
       "    <tr>\n",
       "      <th>19601</th>\n",
       "      <td>functional</td>\n",
       "      <td>non functional</td>\n",
       "      <td>0</td>\n",
       "    </tr>\n",
       "  </tbody>\n",
       "</table>\n",
       "<p>19602 rows × 3 columns</p>\n",
       "</div>"
      ],
      "text/plain": [
       "                            h0                        y  diff\n",
       "0                   functional               functional     1\n",
       "1                   functional               functional     1\n",
       "2                   functional               functional     1\n",
       "3               non functional           non functional     1\n",
       "4                   functional               functional     1\n",
       "5               non functional           non functional     1\n",
       "6                   functional               functional     1\n",
       "7               non functional               functional     0\n",
       "8               non functional               functional     0\n",
       "9                   functional               functional     1\n",
       "10                  functional               functional     1\n",
       "11                  functional           non functional     0\n",
       "12                  functional           non functional     0\n",
       "13                  functional               functional     1\n",
       "14              non functional           non functional     1\n",
       "15              non functional               functional     0\n",
       "16                  functional               functional     1\n",
       "17              non functional               functional     0\n",
       "18                  functional               functional     1\n",
       "19              non functional               functional     0\n",
       "20                  functional  functional needs repair     0\n",
       "21                  functional               functional     1\n",
       "22              non functional           non functional     1\n",
       "23                  functional               functional     1\n",
       "24                  functional               functional     1\n",
       "25                  functional               functional     1\n",
       "26              non functional           non functional     1\n",
       "27                  functional           non functional     0\n",
       "28              non functional           non functional     1\n",
       "29                  functional               functional     1\n",
       "...                        ...                      ...   ...\n",
       "19572  functional needs repair           non functional     0\n",
       "19573               functional               functional     1\n",
       "19574           non functional           non functional     1\n",
       "19575               functional           non functional     0\n",
       "19576               functional  functional needs repair     0\n",
       "19577           non functional               functional     0\n",
       "19578           non functional           non functional     1\n",
       "19579               functional               functional     1\n",
       "19580               functional           non functional     0\n",
       "19581           non functional           non functional     1\n",
       "19582           non functional           non functional     1\n",
       "19583               functional               functional     1\n",
       "19584               functional               functional     1\n",
       "19585               functional  functional needs repair     0\n",
       "19586           non functional               functional     0\n",
       "19587               functional               functional     1\n",
       "19588               functional               functional     1\n",
       "19589           non functional           non functional     1\n",
       "19590               functional           non functional     0\n",
       "19591               functional               functional     1\n",
       "19592               functional           non functional     0\n",
       "19593           non functional           non functional     1\n",
       "19594               functional               functional     1\n",
       "19595           non functional           non functional     1\n",
       "19596               functional               functional     1\n",
       "19597           non functional           non functional     1\n",
       "19598               functional               functional     1\n",
       "19599               functional               functional     1\n",
       "19600           non functional           non functional     1\n",
       "19601               functional           non functional     0\n",
       "\n",
       "[19602 rows x 3 columns]"
      ]
     },
     "execution_count": 61,
     "metadata": {},
     "output_type": "execute_result"
    }
   ],
   "source": [
    "df"
   ]
  },
  {
   "cell_type": "code",
   "execution_count": 40,
   "metadata": {},
   "outputs": [
    {
     "name": "stdout",
     "output_type": "stream",
     "text": [
      "log loss = 1.008975112608494\n"
     ]
    }
   ],
   "source": [
    "PredProb=neigh.predict_proba(X_test)\n",
    "pred=np.asmatrix(PredProb)\n",
    "pred.columns=('high','low','medium')\n",
    "s=np.asmatrix(pd.get_dummies(y_test))\n",
    "def f(x):\n",
    "    return sp.log(sp.maximum(sp.minimum(x,1-10**-5),10**-5))\n",
    "f=np.vectorize(f)\n",
    "predf=f(pred)\n",
    "mult=np.multiply(predf,s)\n",
    "print('log loss =',np.sum(mult)/-len(y_test))"
   ]
  },
  {
   "cell_type": "code",
   "execution_count": 41,
   "metadata": {},
   "outputs": [
    {
     "name": "stdout",
     "output_type": "stream",
     "text": [
      "[0.670615243342516, 0.6725946332006938, 0.6708397102336496, 0.6692786450362207, 0.6672686460565249, 0.6645954494439344, 0.6617794102642588, 0.6587593102744618, 0.6564024079175594, 0.6539026629935721, 0.6517600244872972, 0.648995000510152, 0.6478828690949903, 0.6461687582899704, 0.6439546985001531, 0.6416896235078052, 0.6399857157432915, 0.6392204877053361, 0.6377716559534742]\n",
      "[1.8721493241604485, 1.3242975009158613, 1.1025529326120427, 0.9850343549646119, 0.9198087448484167, 0.8720915147667361, 0.844305643817694, 0.8263533932724079, 0.8134385404366519, 0.8034118928776994, 0.7966214423458873, 0.7927191886428318, 0.7887039865159305, 0.785741558451047, 0.7823669159954021, 0.7812626523558814, 0.7803807733007113, 0.7797428563491129, 0.7782954329628399]\n"
     ]
    }
   ],
   "source": [
    "accbig=[]\n",
    "loglossbig=[]\n",
    "\n",
    "def f(x):\n",
    "    return sp.log(sp.maximum(sp.minimum(x,1-10**-5),10**-5))\n",
    "f=np.vectorize(f)\n",
    "\n",
    "for j in range(3,40,2):\n",
    "    logloss=[]\n",
    "    acc=[]\n",
    "    for i in range(5):\n",
    "        #split data\n",
    "        X_train, X_test, y_train, y_test = train_test_split(X, y, test_size=0.33, random_state=i)\n",
    "        neigh = KNeighborsClassifier(n_neighbors=j)\n",
    "        #train classifier\n",
    "        neigh.fit(X_train, y_train)\n",
    "        \n",
    "        #find % predicted correctly for this k\n",
    "        predVal=neigh.predict(X_test)\n",
    "        mat=[predVal,y_test]\n",
    "        df=pd.DataFrame(mat).transpose()\n",
    "        df.columns=('h0','y')\n",
    "        df['diff']=np.where(df.h0==df.y,1,0)\n",
    "        acc.append(sum(df['diff'])/len(df['diff']))\n",
    "        \n",
    "        #find the logloss for this k\n",
    "        PredProb=neigh.predict_proba(X_test)\n",
    "        pred=np.asmatrix(PredProb)\n",
    "        pred.columns=('high','low','medium')\n",
    "        s=np.asmatrix(pd.get_dummies(y_test))\n",
    "        predf=f(pred)\n",
    "        mult=np.multiply(predf,s)\n",
    "        logloss.append(np.sum(mult)/-len(y_test))\n",
    "    loglossbig.append(np.mean(logloss))\n",
    "    accbig.append(np.mean(acc))\n",
    "print(accbig)\n",
    "print(loglossbig)"
   ]
  },
  {
   "cell_type": "code",
   "execution_count": 43,
   "metadata": {},
   "outputs": [
    {
     "data": {
      "image/png": "[encoded data removed]",
      "text/plain": [
       "<Figure size 432x288 with 1 Axes>"
      ]
     },
     "metadata": {
      "needs_background": "light"
     },
     "output_type": "display_data"
    }
   ],
   "source": [
    "import matplotlib.pyplot as plt \n",
    "plt.plot(range(3,40,2),loglossbig)\n",
    "plt.ylabel('logloss')\n",
    "plt.xlabel('k value')\n",
    "plt.title('KNN logloss on longitude and latitude')\n",
    "plt.show()"
   ]
  },
  {
   "cell_type": "code",
   "execution_count": 44,
   "metadata": {},
   "outputs": [
    {
     "data": {
      "text/plain": [
       "Text(0.5, 1.0, 'KNN prediction on longitude and latitude')"
      ]
     },
     "execution_count": 44,
     "metadata": {},
     "output_type": "execute_result"
    },
    {
     "data": {
      "image/png": "[encoded data removed]",
      "text/plain": [
       "<Figure size 432x288 with 1 Axes>"
      ]
     },
     "metadata": {
      "needs_background": "light"
     },
     "output_type": "display_data"
    }
   ],
   "source": [
    "plt.plot(range(3,40,2),accbig)\n",
    "plt.ylabel('% predicted correctly')\n",
    "plt.xlabel('k value')\n",
    "plt.title('KNN prediction on longitude and latitude')"
   ]
  },
  {
   "cell_type": "code",
   "execution_count": 46,
   "metadata": {},
   "outputs": [
    {
     "ename": "ModuleNotFoundError",
     "evalue": "No module named 'descartes'",
     "output_type": "error",
     "traceback": [
      "\u001b[0;31m---------------------------------------------------------------------------\u001b[0m",
      "\u001b[0;31mModuleNotFoundError\u001b[0m                       Traceback (most recent call last)",
      "\u001b[0;32m<ipython-input-46-b2af5be40d7e>\u001b[0m in \u001b[0;36m<module>\u001b[0;34m\u001b[0m\n\u001b[0;32m----> 1\u001b[0;31m \u001b[0;32mimport\u001b[0m \u001b[0mdescartes\u001b[0m\u001b[0;34m\u001b[0m\u001b[0;34m\u001b[0m\u001b[0m\n\u001b[0m\u001b[1;32m      2\u001b[0m \u001b[0;34m\u001b[0m\u001b[0m\n\u001b[1;32m      3\u001b[0m \u001b[0;32mimport\u001b[0m \u001b[0mgeopandas\u001b[0m \u001b[0;32mas\u001b[0m \u001b[0mgpd\u001b[0m\u001b[0;34m\u001b[0m\u001b[0;34m\u001b[0m\u001b[0m\n\u001b[1;32m      4\u001b[0m \u001b[0;32mfrom\u001b[0m \u001b[0mshapely\u001b[0m\u001b[0;34m.\u001b[0m\u001b[0mgeometry\u001b[0m \u001b[0;32mimport\u001b[0m \u001b[0mPoint\u001b[0m\u001b[0;34m,\u001b[0m \u001b[0mPolygon\u001b[0m\u001b[0;34m\u001b[0m\u001b[0;34m\u001b[0m\u001b[0m\n\u001b[1;32m      5\u001b[0m \u001b[0mget_ipython\u001b[0m\u001b[0;34m(\u001b[0m\u001b[0;34m)\u001b[0m\u001b[0;34m.\u001b[0m\u001b[0mrun_line_magic\u001b[0m\u001b[0;34m(\u001b[0m\u001b[0;34m'matplotlib'\u001b[0m\u001b[0;34m,\u001b[0m \u001b[0;34m'inline'\u001b[0m\u001b[0;34m)\u001b[0m\u001b[0;34m\u001b[0m\u001b[0;34m\u001b[0m\u001b[0m\n",
      "\u001b[0;31mModuleNotFoundError\u001b[0m: No module named 'descartes'"
     ]
    }
   ],
   "source": [
    "import descartes\n",
    "\n",
    "import geopandas as gpd\n",
    "from shapely.geometry import Point, Polygon\n",
    "%matplotlib inline"
   ]
  },
  {
   "cell_type": "code",
   "execution_count": 47,
   "metadata": {},
   "outputs": [
    {
     "ename": "NameError",
     "evalue": "name 'gpd' is not defined",
     "output_type": "error",
     "traceback": [
      "\u001b[0;31m---------------------------------------------------------------------------\u001b[0m",
      "\u001b[0;31mNameError\u001b[0m                                 Traceback (most recent call last)",
      "\u001b[0;32m<ipython-input-47-aafcfee4c420>\u001b[0m in \u001b[0;36m<module>\u001b[0;34m\u001b[0m\n\u001b[0;32m----> 1\u001b[0;31m \u001b[0mcity_bound\u001b[0m \u001b[0;34m=\u001b[0m \u001b[0mgpd\u001b[0m\u001b[0;34m.\u001b[0m\u001b[0mread_file\u001b[0m\u001b[0;34m(\u001b[0m\u001b[0;34m\"./waterways/waterway.shp\"\u001b[0m\u001b[0;34m)\u001b[0m\u001b[0;34m\u001b[0m\u001b[0;34m\u001b[0m\u001b[0m\n\u001b[0m",
      "\u001b[0;31mNameError\u001b[0m: name 'gpd' is not defined"
     ]
    }
   ],
   "source": [
    "city_bound = gpd.read_file(\"./waterways/waterway.shp\")"
   ]
  },
  {
   "cell_type": "code",
   "execution_count": 84,
   "metadata": {},
   "outputs": [
    {
     "ename": "ModuleNotFoundError",
     "evalue": "No module named 'imblearn'",
     "output_type": "error",
     "traceback": [
      "\u001b[0;31m---------------------------------------------------------------------------\u001b[0m",
      "\u001b[0;31mModuleNotFoundError\u001b[0m                       Traceback (most recent call last)",
      "\u001b[0;32m<ipython-input-84-49995086bd81>\u001b[0m in \u001b[0;36m<module>\u001b[0;34m\u001b[0m\n\u001b[0;32m----> 1\u001b[0;31m \u001b[0;32mfrom\u001b[0m \u001b[0mimblearn\u001b[0m \u001b[0;32mimport\u001b[0m \u001b[0;34m*\u001b[0m\u001b[0;34m\u001b[0m\u001b[0;34m\u001b[0m\u001b[0m\n\u001b[0m",
      "\u001b[0;31mModuleNotFoundError\u001b[0m: No module named 'imblearn'"
     ]
    }
   ],
   "source": [
    "from imblearn import *"
   ]
  },
  {
   "cell_type": "code",
   "execution_count": 90,
   "metadata": {},
   "outputs": [],
   "source": []
  },
  {
   "cell_type": "code",
   "execution_count": null,
   "metadata": {},
   "outputs": [],
   "source": [
    "\n",
    "    "
   ]
  },
  {
   "cell_type": "code",
   "execution_count": 124,
   "metadata": {},
   "outputs": [],
   "source": [
    "from sklearn.model_selection import cross_val_score\n",
    "def test_score( dataset , name='mrad',train_id = False ):\n",
    "    K = KFold(5, random_state  = random_seed)\n",
    "    to_int = {'functional':1,'non functional':2,'functional needs repair':3}\n",
    "    to_cat = {1:'functional',2:'non functional',3:'functional needs repair'}\n",
    "\n",
    "\n",
    "    \n",
    "    \n",
    "    y_Train = dataset['status_group'].loc[(dataset['is_test'].isin([0]) )]\n",
    "    y_Train   = y_Train.replace(to_int).copy()\n",
    "    dataset = dataset.drop('status_group',axis=1).copy()\n",
    "    ### Label encode\n",
    "    dataset = label_encoder(dataset).copy()\n",
    "    ### Divide test and train \n",
    "    X_Train= dataset.loc[(dataset['is_test'].isin([0]) )].drop('is_test',axis=1)\n",
    "    test = dataset.loc[(dataset['is_test'].isin([1]) )].drop(['is_test'],axis=1)\n",
    "\n",
    "    #### Set ID aside for test \n",
    "    ID = test['id'] \n",
    "\n",
    "    ### If train_id set to Trues the the ID will be kept as feature\n",
    "    if train_id == False:\n",
    "        X_Train = X_Train.set_index('id')\n",
    "        test = test.set_index('id')\n",
    "    #### Random forest with params from a gridsearch\n",
    "    RFC  = RandomForestClassifier(bootstrap=True, class_weight=None, criterion='gini',\n",
    "            max_depth=80,  max_leaf_nodes=None,\n",
    "            min_impurity_decrease=0.0, min_impurity_split=None,\n",
    "            min_samples_leaf=2, min_samples_split=8,\n",
    "            min_weight_fraction_leaf=0.0, n_estimators=100, n_jobs=None,\n",
    "            oob_score=False, random_state=42, verbose=0, warm_start=False)\n",
    "                      \n",
    "    ###Scores from cross val \n",
    "    scores = cross_val_score(RFC, X_Train, y_Train,scoring='accuracy', cv=K)\n",
    "    print('The average of the cross validation with Random Forest:{}'.format(scores.mean(), scores.std() * 2))\n",
    "    \n",
    "    #### Refitting on the whole data \n",
    "    RFC.fit(X_Train , y_Train)\n",
    "    ### Predict on our test                 \n",
    "    predictions = RFC.predict(test)\n",
    "    ### Save the prediction file with the right format to submit \n",
    "    data = {'ID': ID, 'status_group': predictions}\n",
    "    submit = pd.DataFrame(data=data)\n",
    "    submit['status_group'] = submit.status_group.replace(to_cat)\n",
    "    submit.to_csv('predictions/'+name+'.csv', index=False)\n",
    "    return scores , predictions \n",
    "    "
   ]
  },
  {
   "cell_type": "code",
   "execution_count": 101,
   "metadata": {},
   "outputs": [
    {
     "ename": "NameError",
     "evalue": "name 'X_Train' is not defined",
     "output_type": "error",
     "traceback": [
      "\u001b[0;31m---------------------------------------------------------------------------\u001b[0m",
      "\u001b[0;31mNameError\u001b[0m                                 Traceback (most recent call last)",
      "\u001b[0;32m<ipython-input-101-7332572362a0>\u001b[0m in \u001b[0;36m<module>\u001b[0;34m\u001b[0m\n\u001b[0;32m----> 1\u001b[0;31m \u001b[0mX_Train\u001b[0m\u001b[0;34m.\u001b[0m\u001b[0mcolumns\u001b[0m\u001b[0;34m\u001b[0m\u001b[0;34m\u001b[0m\u001b[0m\n\u001b[0m",
      "\u001b[0;31mNameError\u001b[0m: name 'X_Train' is not defined"
     ]
    }
   ],
   "source": [
    "X_Train.columns"
   ]
  },
  {
   "cell_type": "code",
   "execution_count": 129,
   "metadata": {},
   "outputs": [],
   "source": [
    "data = pd.read_csv(\"./FE_steps/1 train_data_imputed.csv\")"
   ]
  },
  {
   "cell_type": "code",
   "execution_count": 130,
   "metadata": {},
   "outputs": [
    {
     "name": "stdout",
     "output_type": "stream",
     "text": [
      "0        1\n",
      "1        1\n",
      "2        1\n",
      "3        2\n",
      "4        1\n",
      "5        1\n",
      "6        2\n",
      "7        2\n",
      "8        2\n",
      "9        1\n",
      "10       1\n",
      "11       1\n",
      "12       1\n",
      "13       1\n",
      "14       1\n",
      "15       1\n",
      "16       2\n",
      "17       2\n",
      "18       3\n",
      "19       1\n",
      "20       1\n",
      "21       1\n",
      "22       3\n",
      "23       1\n",
      "24       1\n",
      "25       3\n",
      "26       1\n",
      "27       1\n",
      "28       2\n",
      "29       1\n",
      "        ..\n",
      "59370    1\n",
      "59371    2\n",
      "59372    2\n",
      "59373    1\n",
      "59374    1\n",
      "59375    1\n",
      "59376    2\n",
      "59377    2\n",
      "59378    1\n",
      "59379    1\n",
      "59380    2\n",
      "59381    2\n",
      "59382    2\n",
      "59383    1\n",
      "59384    2\n",
      "59385    1\n",
      "59386    1\n",
      "59387    1\n",
      "59388    1\n",
      "59389    1\n",
      "59390    1\n",
      "59391    2\n",
      "59392    2\n",
      "59393    1\n",
      "59394    2\n",
      "59395    1\n",
      "59396    1\n",
      "59397    1\n",
      "59398    1\n",
      "59399    1\n",
      "Name: status_group, Length: 59400, dtype: int64\n",
      "Index(['amount_tsh', 'date_recorded', 'funder', 'gps_height', 'installer',\n",
      "       'longitude', 'latitude', 'wpt_name', 'num_private', 'basin',\n",
      "       'subvillage', 'region', 'region_code', 'district_code', 'lga', 'ward',\n",
      "       'population', 'public_meeting', 'recorded_by', 'scheme_management',\n",
      "       'scheme_name', 'permit', 'construction_year', 'extraction_type',\n",
      "       'extraction_type_group', 'extraction_type_class', 'management',\n",
      "       'management_group', 'payment', 'payment_type', 'water_quality',\n",
      "       'quality_group', 'quantity', 'quantity_group', 'source', 'source_type',\n",
      "       'source_class', 'waterpoint_type', 'waterpoint_type_group',\n",
      "       'Flag_amount_tsh', 'Flag_latitude', 'Flag_longitude',\n",
      "       'Flag_population'],\n",
      "      dtype='object')\n",
      "Index(['amount_tsh', 'date_recorded', 'funder', 'gps_height', 'installer',\n",
      "       'longitude', 'latitude', 'wpt_name', 'num_private', 'basin',\n",
      "       'subvillage', 'region', 'region_code', 'district_code', 'lga', 'ward',\n",
      "       'population', 'public_meeting', 'recorded_by', 'scheme_management',\n",
      "       'scheme_name', 'permit', 'construction_year', 'extraction_type',\n",
      "       'extraction_type_group', 'extraction_type_class', 'management',\n",
      "       'management_group', 'payment', 'payment_type', 'water_quality',\n",
      "       'quality_group', 'quantity', 'quantity_group', 'source', 'source_type',\n",
      "       'source_class', 'waterpoint_type', 'waterpoint_type_group',\n",
      "       'Flag_amount_tsh', 'Flag_latitude', 'Flag_longitude',\n",
      "       'Flag_population'],\n",
      "      dtype='object')\n",
      "The average of the cross validation with Random Forest:0.8133501683501683\n"
     ]
    }
   ],
   "source": [
    " scores , preds = test_score(data ,'only_impute_pred')"
   ]
  },
  {
   "cell_type": "code",
   "execution_count": 131,
   "metadata": {},
   "outputs": [
    {
     "data": {
      "text/plain": [
       "array([0.81700337, 0.81069024, 0.81346801, 0.81144781, 0.81414141])"
      ]
     },
     "execution_count": 131,
     "metadata": {},
     "output_type": "execute_result"
    }
   ],
   "source": [
    "scores"
   ]
  },
  {
   "cell_type": "code",
   "execution_count": null,
   "metadata": {},
   "outputs": [],
   "source": [
    "array([0.81767677, 0.81346801, 0.81363636, 0.81245791, 0.81447811])"
   ]
  }
 ],
 "metadata": {
  "kernelspec": {
   "display_name": "Python 3",
   "language": "python",
   "name": "python3"
  },
  "language_info": {
   "codemirror_mode": {
    "name": "ipython",
    "version": 3
   },
   "file_extension": ".py",
   "mimetype": "text/x-python",
   "name": "python",
   "nbconvert_exporter": "python",
   "pygments_lexer": "ipython3",
   "version": "3.7.2"
  }
 },
 "nbformat": 4,
 "nbformat_minor": 2
}
