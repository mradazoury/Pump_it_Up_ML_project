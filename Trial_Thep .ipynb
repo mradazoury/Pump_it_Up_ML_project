{
 "cells": [
  {
   "cell_type": "code",
   "execution_count": 182,
   "metadata": {},
   "outputs": [],
   "source": [
    "import numpy as np\n",
    "import pandas as pd\n",
    "import matplotlib as plt\n",
    "import seaborn as sns\n",
    "import sklearn as skl\n",
    "import warnings\n",
    "import statsmodels.api as sm\n",
    "    import math as m\n",
    "\n",
    "\n",
    "from sklearn import datasets, linear_model\n",
    "from sklearn.linear_model import LogisticRegression\n",
    "from sklearn.metrics import mean_squared_error\n",
    "from sklearn.model_selection import train_test_split, KFold, GridSearchCV\n",
    "from sklearn.model_selection import cross_val_score, cross_val_predict, ShuffleSplit, validation_curve, cross_validate\n",
    "from sklearn.pipeline import make_pipeline\n",
    "from sklearn.preprocessing import LabelBinarizer, RobustScaler, LabelEncoder, scale, MinMaxScaler, PolynomialFeatures\n",
    "from sklearn.ensemble import ExtraTreesClassifier\n",
    "from sklearn.metrics import accuracy_score, classification_report, roc_curve, roc_auc_score, confusion_matrix\n",
    "from sklearn.decomposition import PCA\n",
    "from sklearn import datasets\n",
    "from sklearn.feature_selection import RFE,SelectFromModel\n",
    "\n",
    "from sklearn.ensemble import RandomForestClassifier as RFC\n",
    "from sklearn.datasets import make_classification\n",
    "\n",
    "#from xgboost import XGBClassifier \n",
    "\n",
    "from scipy.stats import skew, boxcox_normmax\n",
    "from scipy.special import boxcox1p\n",
    "\n",
    "warnings.filterwarnings('ignore')\n",
    "warnings.simplefilter(action='ignore', category=FutureWarning)\n",
    "warnings.simplefilter(action='ignore', category=DeprecationWarning)\n",
    "warnings.simplefilter('ignore')"
   ]
  },
  {
   "cell_type": "code",
   "execution_count": 125,
   "metadata": {},
   "outputs": [],
   "source": [
    "#Load Datasets\n",
    "train_data = pd.read_csv(\"training_set_values.csv\")\n",
    "train_labels = pd.read_csv(\"training_set_labels.csv\")\n",
    "test_data = pd.read_csv(\"test_set_values.csv\")\n"
   ]
  },
  {
   "cell_type": "code",
   "execution_count": null,
   "metadata": {},
   "outputs": [],
   "source": [
    "train_data[[\"population\",\"region\"]]"
   ]
  },
  {
   "cell_type": "code",
   "execution_count": 114,
   "metadata": {},
   "outputs": [
    {
     "data": {
      "text/plain": [
       "array(['Iringa', 'Mara', 'Manyara', 'Mtwara', 'Kagera', 'Tanga',\n",
       "       'Shinyanga', 'Tabora', 'Pwani', 'Ruvuma', 'Kilimanjaro', 'Rukwa',\n",
       "       'Mwanza', 'Kigoma', 'Lindi', 'Dodoma', 'Arusha', 'Mbeya',\n",
       "       'Singida', 'Morogoro', 'Dar es Salaam'], dtype=object)"
      ]
     },
     "execution_count": 114,
     "metadata": {},
     "output_type": "execute_result"
    }
   ],
   "source": [
    "train_data[\"region\"].unique()"
   ]
  },
  {
   "cell_type": "code",
   "execution_count": 115,
   "metadata": {},
   "outputs": [
    {
     "data": {
      "text/plain": [
       "0.6400505050505051"
      ]
     },
     "execution_count": 115,
     "metadata": {},
     "output_type": "execute_result"
    }
   ],
   "source": [
    "count = np.count_nonzero(train_data[\"population\"])/len(train_data)\n",
    "count"
   ]
  },
  {
   "cell_type": "code",
   "execution_count": 116,
   "metadata": {},
   "outputs": [
    {
     "data": {
      "text/html": [
       "<div>\n",
       "<style scoped>\n",
       "    .dataframe tbody tr th:only-of-type {\n",
       "        vertical-align: middle;\n",
       "    }\n",
       "\n",
       "    .dataframe tbody tr th {\n",
       "        vertical-align: top;\n",
       "    }\n",
       "\n",
       "    .dataframe thead th {\n",
       "        text-align: right;\n",
       "    }\n",
       "</style>\n",
       "<table border=\"1\" class=\"dataframe\">\n",
       "  <thead>\n",
       "    <tr style=\"text-align: right;\">\n",
       "      <th></th>\n",
       "      <th>population</th>\n",
       "      <th>region</th>\n",
       "    </tr>\n",
       "  </thead>\n",
       "  <tbody>\n",
       "    <tr>\n",
       "      <th>0</th>\n",
       "      <td>109.0</td>\n",
       "      <td>Iringa</td>\n",
       "    </tr>\n",
       "    <tr>\n",
       "      <th>1</th>\n",
       "      <td>280.0</td>\n",
       "      <td>Mara</td>\n",
       "    </tr>\n",
       "    <tr>\n",
       "      <th>2</th>\n",
       "      <td>250.0</td>\n",
       "      <td>Manyara</td>\n",
       "    </tr>\n",
       "    <tr>\n",
       "      <th>3</th>\n",
       "      <td>58.0</td>\n",
       "      <td>Mtwara</td>\n",
       "    </tr>\n",
       "    <tr>\n",
       "      <th>4</th>\n",
       "      <td>NaN</td>\n",
       "      <td>Kagera</td>\n",
       "    </tr>\n",
       "  </tbody>\n",
       "</table>\n",
       "</div>"
      ],
      "text/plain": [
       "   population   region\n",
       "0       109.0   Iringa\n",
       "1       280.0     Mara\n",
       "2       250.0  Manyara\n",
       "3        58.0   Mtwara\n",
       "4         NaN   Kagera"
      ]
     },
     "execution_count": 116,
     "metadata": {},
     "output_type": "execute_result"
    }
   ],
   "source": []
  },
  {
   "cell_type": "code",
   "execution_count": 117,
   "metadata": {},
   "outputs": [],
   "source": [
    "means = train_data.groupby('region').mean()"
   ]
  },
  {
   "cell_type": "code",
   "execution_count": 127,
   "metadata": {},
   "outputs": [],
   "source": [
    "train_data['population'] = train_data['population'].replace({0:np.nan})\n"
   ]
  },
  {
   "cell_type": "code",
   "execution_count": null,
   "metadata": {},
   "outputs": [],
   "source": []
  },
  {
   "cell_type": "code",
   "execution_count": null,
   "metadata": {},
   "outputs": [],
   "source": []
  },
  {
   "cell_type": "code",
   "execution_count": 119,
   "metadata": {},
   "outputs": [
    {
     "data": {
      "text/plain": [
       "0         109.000000\n",
       "1         280.000000\n",
       "2         250.000000\n",
       "3          58.000000\n",
       "4         281.087167\n",
       "5           1.000000\n",
       "6         281.087167\n",
       "7         281.087167\n",
       "8         281.087167\n",
       "9         281.087167\n",
       "10        345.000000\n",
       "11        250.000000\n",
       "12        281.087167\n",
       "13          1.000000\n",
       "14        281.087167\n",
       "15        200.000000\n",
       "16         35.000000\n",
       "17         50.000000\n",
       "18       1000.000000\n",
       "19          1.000000\n",
       "20          4.000000\n",
       "21        281.087167\n",
       "22        350.000000\n",
       "23        210.000000\n",
       "24        156.000000\n",
       "25        140.000000\n",
       "26        260.000000\n",
       "27        281.087167\n",
       "28          1.000000\n",
       "29          1.000000\n",
       "            ...     \n",
       "59370       1.000000\n",
       "59371     281.087167\n",
       "59372     281.087167\n",
       "59373      96.000000\n",
       "59374     281.087167\n",
       "59375     609.000000\n",
       "59376       1.000000\n",
       "59377     281.087167\n",
       "59378      36.000000\n",
       "59379     281.087167\n",
       "59380      50.000000\n",
       "59381     360.000000\n",
       "59382       1.000000\n",
       "59383     800.000000\n",
       "59384     281.087167\n",
       "59385     200.000000\n",
       "59386    1000.000000\n",
       "59387     100.000000\n",
       "59388     500.000000\n",
       "59389    1500.000000\n",
       "59390     150.000000\n",
       "59391     210.000000\n",
       "59392     281.087167\n",
       "59393     281.087167\n",
       "59394      89.000000\n",
       "59395     125.000000\n",
       "59396      56.000000\n",
       "59397     281.087167\n",
       "59398     281.087167\n",
       "59399     150.000000\n",
       "Name: population, Length: 59400, dtype: float64"
      ]
     },
     "execution_count": 119,
     "metadata": {},
     "output_type": "execute_result"
    }
   ],
   "source": []
  },
  {
   "cell_type": "code",
   "execution_count": 185,
   "metadata": {},
   "outputs": [
    {
     "data": {
      "text/plain": [
       "33003            NaN\n",
       "12172     188.000000\n",
       "5192      281.350964\n",
       "32511     140.000000\n",
       "50057     250.000000\n",
       "43723     400.000000\n",
       "7813      281.657390\n",
       "52047     163.000000\n",
       "21440            NaN\n",
       "32912            NaN\n",
       "20609            NaN\n",
       "49100            NaN\n",
       "7751      281.648900\n",
       "43757            NaN\n",
       "31228     120.000000\n",
       "36230     200.000000\n",
       "32025      45.000000\n",
       "58546    3500.000000\n",
       "54548     500.000000\n",
       "21758            NaN\n",
       "45413     500.000000\n",
       "35730       1.000000\n",
       "51668            NaN\n",
       "8444      281.651433\n",
       "19946      20.000000\n",
       "37532       1.000000\n",
       "57245      29.000000\n",
       "22926            NaN\n",
       "49714            NaN\n",
       "27204     600.000000\n",
       "31959            NaN\n",
       "24535            NaN\n",
       "19433     325.000000\n",
       "17137      42.000000\n",
       "26103            NaN\n",
       "44510      40.000000\n",
       "51040       1.000000\n",
       "33878       1.000000\n",
       "39053     260.000000\n",
       "55273     234.000000\n",
       "33799            NaN\n",
       "37183       1.000000\n",
       "52029     250.000000\n",
       "3606      281.777914\n",
       "42297            NaN\n",
       "2561      281.962054\n",
       "29960       1.000000\n",
       "58072            NaN\n",
       "32397       1.000000\n",
       "39539            NaN\n",
       "431       281.465181\n",
       "36842            NaN\n",
       "47560            NaN\n",
       "16926            NaN\n",
       "9287      281.702490\n",
       "46467            NaN\n",
       "34246            NaN\n",
       "16277      53.000000\n",
       "34105            NaN\n",
       "Name: population, dtype: float64"
      ]
     },
     "execution_count": 185,
     "metadata": {},
     "output_type": "execute_result"
    }
   ],
   "source": []
  },
  {
   "cell_type": "code",
   "execution_count": 188,
   "metadata": {},
   "outputs": [],
   "source": [
    "## Check for Nan and ipute with the mean of the lowest level regional variable \n",
    "def impute_pop(df):\n",
    "    df['population'] = df['population'].replace({0:np.nan})\n",
    "    numeric_dtypes = ['int16', 'int32', 'int64', \n",
    "                      'float16', 'float32', 'float64']\n",
    "    for i in range(0, len(df)): \n",
    "        if m.isnan(df.population[i]) == True:\n",
    "            for j in (\"subvillage\", \"ward\", \"lga\", \"district_code\", \"region\", \"basin\"):\n",
    "                if m.isnan(df.population[df[j] == df[j].iloc[i]].mean()) == False:\n",
    "                    df.population.iloc[i] = df.population[df[j] == df[j].iloc[i]].mean()\n",
    "                    break\n",
    "                elif j == \"basin\":\n",
    "                    df.population.iloc[i] = train_data['population'].mean()\n",
    "    return df\n",
    "                \n",
    "                   \n",
    "        "
   ]
  },
  {
   "cell_type": "code",
   "execution_count": 189,
   "metadata": {},
   "outputs": [],
   "source": [
    "result = find_nan(train_data)\n",
    "\n",
    "m.isnan(result.po"
   ]
  },
  {
   "cell_type": "code",
   "execution_count": 193,
   "metadata": {},
   "outputs": [
    {
     "data": {
      "text/plain": [
       "id                           0\n",
       "amount_tsh                   0\n",
       "date_recorded                0\n",
       "funder                    3635\n",
       "gps_height                   0\n",
       "installer                 3655\n",
       "longitude                    0\n",
       "latitude                     0\n",
       "wpt_name                     0\n",
       "num_private                  0\n",
       "basin                        0\n",
       "subvillage                 371\n",
       "region                       0\n",
       "region_code                  0\n",
       "district_code                0\n",
       "lga                          0\n",
       "ward                         0\n",
       "population                   0\n",
       "public_meeting            3334\n",
       "recorded_by                  0\n",
       "scheme_management         3877\n",
       "scheme_name              28166\n",
       "permit                    3056\n",
       "construction_year            0\n",
       "extraction_type              0\n",
       "extraction_type_group        0\n",
       "extraction_type_class        0\n",
       "management                   0\n",
       "management_group             0\n",
       "payment                      0\n",
       "payment_type                 0\n",
       "water_quality                0\n",
       "quality_group                0\n",
       "quantity                     0\n",
       "quantity_group               0\n",
       "source                       0\n",
       "source_type                  0\n",
       "source_class                 0\n",
       "waterpoint_type              0\n",
       "waterpoint_type_group        0\n",
       "dtype: int64"
      ]
     },
     "execution_count": 193,
     "metadata": {},
     "output_type": "execute_result"
    }
   ],
   "source": [
    "result.isna().sum()"
   ]
  },
  {
   "cell_type": "code",
   "execution_count": 181,
   "metadata": {},
   "outputs": [
    {
     "data": {
      "text/plain": [
       "False"
      ]
     },
     "execution_count": 181,
     "metadata": {},
     "output_type": "execute_result"
    }
   ],
   "source": [
    "import math as m\n",
    "m.isnan(result.population[1])"
   ]
  },
  {
   "cell_type": "code",
   "execution_count": null,
   "metadata": {},
   "outputs": [],
   "source": [
    "train_data['population'].fillna((train_data['population'].mean()), inplace=True)\n",
    "train_data['population']"
   ]
  },
  {
   "cell_type": "code",
   "execution_count": null,
   "metadata": {},
   "outputs": [],
   "source": [
    "means = train_data.groupby('subvillage').mean()"
   ]
  },
  {
   "cell_type": "code",
   "execution_count": 186,
   "metadata": {},
   "outputs": [
    {
     "data": {
      "text/plain": [
       "281.875288846596"
      ]
     },
     "execution_count": 186,
     "metadata": {},
     "output_type": "execute_result"
    }
   ],
   "source": []
  },
  {
   "cell_type": "code",
   "execution_count": null,
   "metadata": {},
   "outputs": [],
   "source": []
  }
 ],
 "metadata": {
  "kernelspec": {
   "display_name": "Python 3",
   "language": "python",
   "name": "python3"
  },
  "language_info": {
   "codemirror_mode": {
    "name": "ipython",
    "version": 3
   },
   "file_extension": ".py",
   "mimetype": "text/x-python",
   "name": "python",
   "nbconvert_exporter": "python",
   "pygments_lexer": "ipython3",
   "version": "3.7.1"
  }
 },
 "nbformat": 4,
 "nbformat_minor": 2
}
