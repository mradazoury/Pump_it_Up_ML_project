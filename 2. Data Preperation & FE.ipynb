{
 "cells": [
  {
   "cell_type": "code",
   "execution_count": 169,
   "metadata": {},
   "outputs": [
    {
     "name": "stdout",
     "output_type": "stream",
     "text": [
      "Once deleted, variables cannot be recovered. Proceed (y/[n])? y\n"
     ]
    }
   ],
   "source": [
    "%reset"
   ]
  },
  {
   "cell_type": "markdown",
   "metadata": {},
   "source": [
    "#  2. Data preperation"
   ]
  },
  {
   "cell_type": "code",
   "execution_count": 170,
   "metadata": {},
   "outputs": [
    {
     "name": "stdout",
     "output_type": "stream",
     "text": [
      "The autoreload extension is already loaded. To reload it, use:\n",
      "  %reload_ext autoreload\n"
     ]
    }
   ],
   "source": [
    "%load_ext autoreload\n",
    "%aimport data_prep\n",
    "%run data_prep.py\n",
    "%autoreload 1"
   ]
  },
  {
   "cell_type": "markdown",
   "metadata": {},
   "source": [
    "### Load Datasets & Join both Datasets"
   ]
  },
  {
   "cell_type": "code",
   "execution_count": 171,
   "metadata": {},
   "outputs": [
    {
     "name": "stdout",
     "output_type": "stream",
     "text": [
      "`status_group` added to train_data \n",
      "\n"
     ]
    }
   ],
   "source": [
    "train_data = pd.read_csv(\"original_datasets/training_set_values.csv\")\n",
    "train_labels = pd.read_csv(\"original_datasets/training_set_labels.csv\")\n",
    "test_data = pd.read_csv(\"original_datasets/test_set_values.csv\")\n",
    "\n",
    "#Join Labels with Train data\n",
    "train_data = addLabelToTrainData(train_data, train_labels)\n",
    "test_data['status_group'] = 'test'\n",
    "#test_data.insert(0, 'My 2nd new column', 'default value 2')\n",
    "train_data['is_test'] = 0\n",
    "test_data['is_test'] = 1\n",
    "\n",
    "data = pd.concat([train_data,test_data],ignore_index=True)\n",
    "data.to_csv('./original_datasets/initial_joined.csv', index=False)"
   ]
  },
  {
   "cell_type": "markdown",
   "metadata": {},
   "source": [
    "## Start Transformoing on a copy"
   ]
  },
  {
   "cell_type": "code",
   "execution_count": 172,
   "metadata": {},
   "outputs": [],
   "source": [
    "data_transformed = data.copy()"
   ]
  },
  {
   "cell_type": "code",
   "execution_count": 173,
   "metadata": {},
   "outputs": [
    {
     "name": "stdout",
     "output_type": "stream",
     "text": [
      "gps_height imputed with mean\n"
     ]
    }
   ],
   "source": [
    "#Impute Latitude by the mean of the geographical areas (increasing order \"subvillage\", \"ward\", \"lga\", \"district_code\", \"region\", \"basin\")\n",
    "data_transformed = impute_column(data_transformed, \"gps_height\")\n",
    "data_transformed.to_csv(\"./FE_steps/6 train_data_gps_height_ONLY_imputed.csv\", index=False)\n",
    "data_transformed = data.copy()"
   ]
  },
  {
   "cell_type": "code",
   "execution_count": 175,
   "metadata": {},
   "outputs": [
    {
     "name": "stdout",
     "output_type": "stream",
     "text": [
      "longitude imputed with mean\n",
      "latitude imputed with mean\n",
      "added distance to capital\n"
     ]
    }
   ],
   "source": [
    "#Impute Latitude by the mean of the geographical areas (increasing order \"subvillage\", \"ward\", \"lga\", \"district_code\", \"region\", \"basin\")\n",
    "data_transformed = impute_column(data_transformed, \"longitude\")\n",
    "data_transformed = impute_column(data_transformed, \"latitude\")\n",
    "data_transformed = distance_capital(data_transformed)\n",
    "data_transformed.to_csv(\"./FE_steps/7 train_data_capital_ONLY.csv\", index=False)\n",
    "data_transformed = data.copy()\n"
   ]
  },
  {
   "cell_type": "markdown",
   "metadata": {},
   "source": [
    "### Impute Values "
   ]
  },
  {
   "cell_type": "markdown",
   "metadata": {},
   "source": [
    "Impute for Train"
   ]
  },
  {
   "cell_type": "code",
   "execution_count": null,
   "metadata": {},
   "outputs": [],
   "source": [
    "# Impute 0 for regions of 'Dodoma','Kagera','Mbeya','Tabora' this regions 0 ar actually missing values\n",
    "data_transformed = amount_tsh_impute_regions(data_transformed)"
   ]
  },
  {
   "cell_type": "code",
   "execution_count": null,
   "metadata": {},
   "outputs": [],
   "source": [
    "#Impute Latitude by the mean of the geographical areas (increasing order \"subvillage\", \"ward\", \"lga\", \"district_code\", \"region\", \"basin\")\n",
    "data_transformed = impute_column(data_transformed, \"latitude\")\n"
   ]
  },
  {
   "cell_type": "code",
   "execution_count": null,
   "metadata": {},
   "outputs": [],
   "source": [
    "#Impute Longitude by the mean of the geographical areas (increasing order \"subvillage\", \"ward\", \"lga\", \"district_code\", \"region\", \"basin\")\n",
    "data_transformed = impute_column(data_transformed, \"longitude\")"
   ]
  },
  {
   "cell_type": "code",
   "execution_count": null,
   "metadata": {},
   "outputs": [],
   "source": [
    "#Impute Population by the mean of the geographical areas (increasing order \"subvillage\", \"ward\", \"lga\", \"district_code\", \"region\", \"basin\")\n",
    "data_transformed = impute_column(data_transformed, \"population\")\n"
   ]
  },
  {
   "cell_type": "code",
   "execution_count": null,
   "metadata": {},
   "outputs": [],
   "source": [
    "data_transformed = impute_column(data_transformed, \"gps_height\")"
   ]
  },
  {
   "cell_type": "markdown",
   "metadata": {},
   "source": [
    "<p style=\"color:red;\"> -------------------------- CHECKPOINT</p>\n",
    "<p style=\"color:red;\"> -------------------------- SAVE to FE folder</p>\n"
   ]
  },
  {
   "cell_type": "code",
   "execution_count": null,
   "metadata": {},
   "outputs": [],
   "source": [
    "data_transformed.to_csv(\"./FE_steps/1 train_data_imputed.csv\", index=False)"
   ]
  },
  {
   "cell_type": "code",
   "execution_count": null,
   "metadata": {},
   "outputs": [],
   "source": [
    "data_transformed = pd.read_csv(\"./FE_steps/1 train_data_imputed.csv\")\n",
    "data_transformed_without_impute = data.copy()"
   ]
  },
  {
   "cell_type": "markdown",
   "metadata": {},
   "source": [
    "### Add Outside Data"
   ]
  },
  {
   "cell_type": "code",
   "execution_count": null,
   "metadata": {},
   "outputs": [],
   "source": [
    "data_transformed = density(data_transformed)\n",
    "data_transformed_without_impute = density(data_transformed_without_impute)"
   ]
  },
  {
   "cell_type": "markdown",
   "metadata": {},
   "source": [
    "### Conversions\n",
    "#### Compute `age` from `construction_year` "
   ]
  },
  {
   "cell_type": "code",
   "execution_count": null,
   "metadata": {},
   "outputs": [],
   "source": [
    "# construction_year - converts it to years elapsed (AKA age) -- (zeroes ignored)\n",
    "data_transformed = convert_construction_year(data_transformed)\n",
    "data_transformed_without_impute = convert_construction_year(data_transformed_without_impute)"
   ]
  },
  {
   "cell_type": "code",
   "execution_count": null,
   "metadata": {},
   "outputs": [],
   "source": [
    "# age imputed with mean of rows with same extraction_type\n",
    "data_transformed = impute_age(data_transformed)\n",
    "data_transformed_without_impute = impute_age(data_transformed_without_impute)"
   ]
  },
  {
   "cell_type": "markdown",
   "metadata": {},
   "source": [
    "<p style=\"color:red;\"> -------------------------- CHECKPOINT</p>\n",
    "<p style=\"color:red;\"> -------------------------- SAVE to FE folder</p>\n"
   ]
  },
  {
   "cell_type": "code",
   "execution_count": null,
   "metadata": {},
   "outputs": [],
   "source": [
    "data_transformed.to_csv(\"./FE_steps/2 train_data_impute_age_dayse_recorded_density.csv\", index=False)\n",
    "data_transformed_without_impute.to_csv(\"./FE_steps/3 train_data_NOIMPUTE_age_dayse_recorded_density.csv\", index=False)"
   ]
  },
  {
   "cell_type": "code",
   "execution_count": null,
   "metadata": {},
   "outputs": [],
   "source": [
    "data_transformed = pd.read_csv(\"./FE_steps/2 train_data_impute_age_dayse_recorded_density.csv\")\n",
    "data_transformed_without_impute = pd.read_csv(\"./FE_steps/3 train_data_NOIMPUTE_age_dayse_recorded_density.csv\")"
   ]
  },
  {
   "cell_type": "markdown",
   "metadata": {},
   "source": [
    "### ADD `days_since_recoreded`"
   ]
  },
  {
   "cell_type": "code",
   "execution_count": null,
   "metadata": {},
   "outputs": [],
   "source": [
    "data_transformed_without_impute = convert_date_recorded(data_transformed_without_impute)"
   ]
  },
  {
   "cell_type": "markdown",
   "metadata": {},
   "source": [
    "### Binning"
   ]
  },
  {
   "cell_type": "markdown",
   "metadata": {},
   "source": [
    "Try one iteration without binning"
   ]
  },
  {
   "cell_type": "code",
   "execution_count": null,
   "metadata": {},
   "outputs": [],
   "source": [
    "data_transformed_without_impute = bin_feature(data_transformed_without_impute, \"days_since_recoreded\", 8)"
   ]
  },
  {
   "cell_type": "code",
   "execution_count": null,
   "metadata": {},
   "outputs": [],
   "source": [
    "plt.pyplot.show()\n",
    "ax = ((data_transformed_without_impute[data_transformed_without_impute.status_group=='functional'].days_since_recoreded.value_counts().sort_index()/len(data_transformed_without_impute.status_group))*100).plot(kind='bar',color='g', x='days_since_recoreded')\n",
    "((data_transformed_without_impute[data_transformed_without_impute.status_group=='non functional'].days_since_recoreded.value_counts().sort_index()/len(data_transformed_without_impute.status_group))*100).plot(kind='bar',color='r', x='days_since_recoreded')\n",
    "((data_transformed_without_impute[data_transformed_without_impute.status_group=='functional needs repair'].days_since_recoreded.value_counts().sort_index()/len(data_transformed_without_impute.status_group)*100)).plot(kind='bar',color='b',alpha= 0.7, ax= ax, x='days_since_recoreded')\n",
    "ax.legend([\"functional\", \"non functional\",\"functional needs repair\"])\n",
    "plt.pyplot.title('Distribution of days_since_recoreded variable ')\n",
    "plt.pyplot.xlabel('days_since_recoreded')\n",
    "plt.pyplot.ylabel('Percentage')"
   ]
  },
  {
   "cell_type": "markdown",
   "metadata": {},
   "source": [
    "### Add distance to capital"
   ]
  },
  {
   "cell_type": "code",
   "execution_count": null,
   "metadata": {},
   "outputs": [],
   "source": [
    "data_transformed_without_impute = distance_capital(data_transformed_without_impute)"
   ]
  },
  {
   "cell_type": "markdown",
   "metadata": {},
   "source": [
    "<p style=\"color:red;\"> -------------------------- CHECKPOINT</p>\n",
    "<p style=\"color:red;\"> -------------------------- SAVE to FE folder</p>\n"
   ]
  },
  {
   "cell_type": "code",
   "execution_count": null,
   "metadata": {},
   "outputs": [],
   "source": [
    "data_transformed_without_impute.to_csv(\"FE_steps/4 train_data_NOIMPUTE_age_dayse_recorded_density_capital.csv\", index=False)"
   ]
  },
  {
   "cell_type": "code",
   "execution_count": null,
   "metadata": {},
   "outputs": [],
   "source": [
    "data_transformed_without_impute = pd.read_csv(\"FE_steps/4 train_data_NOIMPUTE_age_dayse_recorded_density_capital.csv\")"
   ]
  },
  {
   "cell_type": "markdown",
   "metadata": {},
   "source": [
    "### Shortlisting columns"
   ]
  },
  {
   "cell_type": "markdown",
   "metadata": {},
   "source": [
    "Shortlist Trainning set columns"
   ]
  },
  {
   "cell_type": "code",
   "execution_count": null,
   "metadata": {},
   "outputs": [],
   "source": [
    "# installer\n",
    "data_transformed_without_impute = shortlist_installer(data_transformed_without_impute)\n",
    "\n",
    "# funder\n",
    "data_transformed_without_impute = shortlist_funder(data_transformed_without_impute)\n",
    "\n",
    "# lga\n",
    "data_transformed_without_impute = shortlist_lga(data_transformed_without_impute)\n",
    "\n",
    "# extraction_type\n",
    "data_transformed_without_impute = shortlist_extraction_type(data_transformed_without_impute)\n",
    "\n",
    "#scheme_management\n",
    "data_transformed_without_impute = shortlist_scheme_management(data_transformed_without_impute)\n",
    "\n",
    "#region_code\n",
    "data_transformed_without_impute = shortlist_region_code(data_transformed_without_impute)"
   ]
  },
  {
   "cell_type": "markdown",
   "metadata": {},
   "source": [
    "<p style=\"color:red;\"> -------------------------- CHECKPOINT</p>\n",
    "<p style=\"color:red;\"> -------------------------- SAVE to FE folder</p>"
   ]
  },
  {
   "cell_type": "code",
   "execution_count": null,
   "metadata": {},
   "outputs": [],
   "source": [
    "data_transformed_without_impute.to_csv(\"FE_steps/5 train_data_NOIMPUTE_age_dayse_recorded_density_capital_SHORTLISTING.csv\", index=False)"
   ]
  },
  {
   "cell_type": "code",
   "execution_count": null,
   "metadata": {},
   "outputs": [],
   "source": [
    "data_transformed_without_impute = pd.read_csv(\"FE_steps/5 train_data_NOIMPUTE_age_dayse_recorded_density_capital_SHORTLISTING.csv\")"
   ]
  },
  {
   "cell_type": "markdown",
   "metadata": {},
   "source": [
    "# Correlation matrix"
   ]
  },
  {
   "cell_type": "code",
   "execution_count": null,
   "metadata": {},
   "outputs": [],
   "source": [
    "plt.pyplot.figure(figsize=(20,10))\n",
    "sns.heatmap(train_data_transformed.corr(),cbar=True,fmt =' .2f', annot=True, cmap='viridis')"
   ]
  },
  {
   "cell_type": "markdown",
   "metadata": {},
   "source": [
    "#  Save Data"
   ]
  },
  {
   "cell_type": "code",
   "execution_count": null,
   "metadata": {},
   "outputs": [],
   "source": [
    "#train_data_transformed.status_group.replace(['functional', 'non functional','functional needs repair'], [1, 2, 3], inplace=True)\n",
    "labels_prepared = train_data_transformed[[\"status_group\"]]\n",
    "train_data_transformed = train_data_transformed.drop(columns=[\"status_group\"])\n",
    "\n",
    "#train_data_transformed = onehot_encode(train_data_transformed)\n",
    "train_data_transformed.to_csv(\"./FE_Final/train_data_prepared.csv\", index=False)\n",
    "test_data_transformed.to_csv(\"./FE_Final/test_data_prepared.csv\", index=False)"
   ]
  },
  {
   "cell_type": "code",
   "execution_count": null,
   "metadata": {},
   "outputs": [],
   "source": []
  }
 ],
 "metadata": {
  "kernelspec": {
   "display_name": "Python 3",
   "language": "python",
   "name": "python3"
  },
  "language_info": {
   "codemirror_mode": {
    "name": "ipython",
    "version": 3
   },
   "file_extension": ".py",
   "mimetype": "text/x-python",
   "name": "python",
   "nbconvert_exporter": "python",
   "pygments_lexer": "ipython3",
   "version": "3.7.1"
  }
 },
 "nbformat": 4,
 "nbformat_minor": 2
}
