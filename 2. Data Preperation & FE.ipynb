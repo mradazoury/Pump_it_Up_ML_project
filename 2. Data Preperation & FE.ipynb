{
 "cells": [
  {
   "cell_type": "code",
   "execution_count": 531,
   "metadata": {},
   "outputs": [
    {
     "name": "stdout",
     "output_type": "stream",
     "text": [
      "Once deleted, variables cannot be recovered. Proceed (y/[n])? y\n"
     ]
    }
   ],
   "source": [
    "%reset"
   ]
  },
  {
   "cell_type": "markdown",
   "metadata": {},
   "source": [
    "#  2. Data preperation"
   ]
  },
  {
   "cell_type": "code",
   "execution_count": 40,
   "metadata": {},
   "outputs": [
    {
     "name": "stdout",
     "output_type": "stream",
     "text": [
      "The autoreload extension is already loaded. To reload it, use:\n",
      "  %reload_ext autoreload\n"
     ]
    }
   ],
   "source": [
    "%load_ext autoreload\n",
    "%aimport data_prep\n",
    "%run data_prep.py\n",
    "%autoreload 1"
   ]
  },
  {
   "cell_type": "markdown",
   "metadata": {},
   "source": [
    "### Load Datasets & Join both Datasets"
   ]
  },
  {
   "cell_type": "code",
   "execution_count": 62,
   "metadata": {},
   "outputs": [
    {
     "name": "stdout",
     "output_type": "stream",
     "text": [
      "`status_group` added to train_data \n",
      "\n"
     ]
    }
   ],
   "source": [
    "train_data = pd.read_csv(\"original_datasets/training_set_values.csv\")\n",
    "train_labels = pd.read_csv(\"original_datasets/training_set_labels.csv\")\n",
    "test_data = pd.read_csv(\"original_datasets/test_set_values.csv\")\n",
    "\n",
    "#Join Labels with Train data\n",
    "train_data = addLabelToTrainData(train_data, train_labels)\n",
    "test_data['status_group'] = 'test'\n",
    "#test_data.insert(0, 'My 2nd new column', 'default value 2')\n",
    "train_data['is_test'] = 0\n",
    "test_data['is_test'] = 1\n",
    "\n",
    "data = pd.concat([train_data,test_data],ignore_index=True)\n",
    "data.to_csv('./original_datasets/initial_joined.csv', index=False)"
   ]
  },
  {
   "cell_type": "markdown",
   "metadata": {},
   "source": [
    "## Start Transformoing on a copy"
   ]
  },
  {
   "cell_type": "code",
   "execution_count": 63,
   "metadata": {},
   "outputs": [],
   "source": [
    "data_transformed = data.copy()"
   ]
  },
  {
   "cell_type": "code",
   "execution_count": 64,
   "metadata": {},
   "outputs": [
    {
     "name": "stdout",
     "output_type": "stream",
     "text": [
      "gps_height imputed with mean\n"
     ]
    }
   ],
   "source": [
    "#Impute Latitude by the mean of the geographical areas (increasing order \"subvillage\", \"ward\", \"lga\", \"district_code\", \"region\", \"basin\")\n",
    "data_transformed = impute_column(data_transformed, \"gps_height\")\n",
    "data_transformed.to_csv(\"./FE_steps/6 train_data_gps_height_ONLY_imputed.csv\", index=False)\n",
    "data_transformed = data.copy()"
   ]
  },
  {
   "cell_type": "code",
   "execution_count": 65,
   "metadata": {},
   "outputs": [
    {
     "name": "stdout",
     "output_type": "stream",
     "text": [
      "longitude imputed with mean\n",
      "latitude imputed with mean\n",
      "added distance to capital\n"
     ]
    }
   ],
   "source": [
    "#Impute Latitude by the mean of the geographical areas (increasing order \"subvillage\", \"ward\", \"lga\", \"district_code\", \"region\", \"basin\")\n",
    "data_transformed = impute_column(data_transformed, \"longitude\")\n",
    "data_transformed = impute_column(data_transformed, \"latitude\")\n",
    "data_transformed_without_impute = distance_capital(data_transformed_without_impute)\n",
    "data_transformed.to_csv(\"./FE_steps/7 train_data_capital_ONLY.csv\", index=False)\n",
    "data_transformed = data.copy()\n"
   ]
  },
  {
   "cell_type": "markdown",
   "metadata": {},
   "source": [
    "### Impute Values "
   ]
  },
  {
   "cell_type": "markdown",
   "metadata": {},
   "source": [
    "Impute for Train"
   ]
  },
  {
   "cell_type": "code",
   "execution_count": 66,
   "metadata": {},
   "outputs": [
    {
     "name": "stdout",
     "output_type": "stream",
     "text": [
      "amount_tsh imputed with mean for regions: ['Dodoma','Kagera','Mbeya','Tabora']\n"
     ]
    }
   ],
   "source": [
    "# Impute 0 for regions of 'Dodoma','Kagera','Mbeya','Tabora' this regions 0 ar actually missing values\n",
    "data_transformed = amount_tsh_impute_regions(data_transformed)"
   ]
  },
  {
   "cell_type": "code",
   "execution_count": 67,
   "metadata": {},
   "outputs": [
    {
     "name": "stdout",
     "output_type": "stream",
     "text": [
      "latitude imputed with mean\n"
     ]
    }
   ],
   "source": [
    "#Impute Latitude by the mean of the geographical areas (increasing order \"subvillage\", \"ward\", \"lga\", \"district_code\", \"region\", \"basin\")\n",
    "data_transformed = impute_column(data_transformed, \"latitude\")\n"
   ]
  },
  {
   "cell_type": "code",
   "execution_count": 68,
   "metadata": {},
   "outputs": [
    {
     "name": "stdout",
     "output_type": "stream",
     "text": [
      "longitude imputed with mean\n"
     ]
    }
   ],
   "source": [
    "#Impute Longitude by the mean of the geographical areas (increasing order \"subvillage\", \"ward\", \"lga\", \"district_code\", \"region\", \"basin\")\n",
    "data_transformed = impute_column(data_transformed, \"longitude\")"
   ]
  },
  {
   "cell_type": "code",
   "execution_count": 69,
   "metadata": {},
   "outputs": [
    {
     "name": "stdout",
     "output_type": "stream",
     "text": [
      "population imputed with mean\n"
     ]
    }
   ],
   "source": [
    "#Impute Population by the mean of the geographical areas (increasing order \"subvillage\", \"ward\", \"lga\", \"district_code\", \"region\", \"basin\")\n",
    "data_transformed = impute_column(data_transformed, \"population\")\n"
   ]
  },
  {
   "cell_type": "code",
   "execution_count": 70,
   "metadata": {},
   "outputs": [
    {
     "name": "stdout",
     "output_type": "stream",
     "text": [
      "gps_height imputed with mean\n"
     ]
    }
   ],
   "source": [
    "data_transformed = impute_column(data_transformed, \"gps_height\")"
   ]
  },
  {
   "cell_type": "markdown",
   "metadata": {},
   "source": [
    "<p style=\"color:red;\"> -------------------------- CHECKPOINT</p>\n",
    "<p style=\"color:red;\"> -------------------------- SAVE to FE folder</p>\n"
   ]
  },
  {
   "cell_type": "code",
   "execution_count": 71,
   "metadata": {},
   "outputs": [],
   "source": [
    "data_transformed.to_csv(\"./FE_steps/1 train_data_imputed.csv\", index=False)"
   ]
  },
  {
   "cell_type": "code",
   "execution_count": 72,
   "metadata": {},
   "outputs": [],
   "source": [
    "data_transformed = pd.read_csv(\"./FE_steps/1 train_data_imputed.csv\")\n",
    "data_transformed_without_impute = data.copy()"
   ]
  },
  {
   "cell_type": "markdown",
   "metadata": {},
   "source": [
    "### Add Outside Data"
   ]
  },
  {
   "cell_type": "code",
   "execution_count": 73,
   "metadata": {},
   "outputs": [
    {
     "name": "stdout",
     "output_type": "stream",
     "text": [
      "added density\n",
      "added density\n"
     ]
    }
   ],
   "source": [
    "data_transformed = density(data_transformed)\n",
    "data_transformed_without_impute = density(data_transformed_without_impute)"
   ]
  },
  {
   "cell_type": "markdown",
   "metadata": {},
   "source": [
    "### Conversions\n",
    "#### Compute `age` from `construction_year` "
   ]
  },
  {
   "cell_type": "code",
   "execution_count": 74,
   "metadata": {},
   "outputs": [
    {
     "name": "stdout",
     "output_type": "stream",
     "text": [
      "`construction_year` converted to `age`, which is elapsed years (zeroes ignored) \n",
      "\n",
      "`construction_year` converted to `age`, which is elapsed years (zeroes ignored) \n",
      "\n"
     ]
    }
   ],
   "source": [
    "# construction_year - converts it to years elapsed (AKA age) -- (zeroes ignored)\n",
    "data_transformed = convert_construction_year(data_transformed)\n",
    "data_transformed_without_impute = convert_construction_year(data_transformed_without_impute)"
   ]
  },
  {
   "cell_type": "code",
   "execution_count": 75,
   "metadata": {},
   "outputs": [
    {
     "name": "stdout",
     "output_type": "stream",
     "text": [
      "`age` imputed with mean of rows with same extraction_type  \n",
      "\n",
      "`age` imputed with mean of rows with same extraction_type  \n",
      "\n"
     ]
    }
   ],
   "source": [
    "# age imputed with mean of rows with same extraction_type\n",
    "data_transformed = impute_age(data_transformed)\n",
    "data_transformed_without_impute = impute_age(data_transformed_without_impute)"
   ]
  },
  {
   "cell_type": "markdown",
   "metadata": {},
   "source": [
    "<p style=\"color:red;\"> -------------------------- CHECKPOINT</p>\n",
    "<p style=\"color:red;\"> -------------------------- SAVE to FE folder</p>\n"
   ]
  },
  {
   "cell_type": "code",
   "execution_count": 76,
   "metadata": {},
   "outputs": [],
   "source": [
    "data_transformed.to_csv(\"./FE_steps/2 train_data_impute_age_dayse_recorded_density.csv\", index=False)\n",
    "data_transformed_without_impute.to_csv(\"./FE_steps/3 train_data_NOIMPUTE_age_dayse_recorded_density.csv\", index=False)"
   ]
  },
  {
   "cell_type": "code",
   "execution_count": 77,
   "metadata": {},
   "outputs": [],
   "source": [
    "data_transformed = pd.read_csv(\"./FE_steps/2 train_data_impute_age_dayse_recorded_density.csv\")\n",
    "data_transformed_without_impute = pd.read_csv(\"./FE_steps/3 train_data_NOIMPUTE_age_dayse_recorded_density.csv\")"
   ]
  },
  {
   "cell_type": "markdown",
   "metadata": {},
   "source": [
    "### ADD `days_since_recoreded`"
   ]
  },
  {
   "cell_type": "code",
   "execution_count": 78,
   "metadata": {},
   "outputs": [
    {
     "name": "stdout",
     "output_type": "stream",
     "text": [
      "`date_recorded` converted to `days_since_recoreded`, which is elapsed days (zeroes ignored) \n",
      "\n"
     ]
    }
   ],
   "source": [
    "data_transformed_without_impute = convert_date_recorded(data_transformed_without_impute)"
   ]
  },
  {
   "cell_type": "markdown",
   "metadata": {},
   "source": [
    "### Binning"
   ]
  },
  {
   "cell_type": "markdown",
   "metadata": {},
   "source": [
    "Try one iteration without binning"
   ]
  },
  {
   "cell_type": "code",
   "execution_count": 79,
   "metadata": {},
   "outputs": [
    {
     "name": "stdout",
     "output_type": "stream",
     "text": [
      "`days_since_recoreded` has been binned to 8 categories:\n",
      "IntervalIndex([(1923.999, 2196.0], (2196.0, 2221.0], (2221.0, 2241.0], (2241.0, 2343.0], (2343.0, 2790.0], (2790.0, 2901.0], (2901.0, 2920.0], (2920.0, 6559.0]]\n",
      "              closed='right',\n",
      "              dtype='interval[float64]')\n",
      "\n",
      "\n"
     ]
    }
   ],
   "source": [
    "data_transformed_without_impute = bin_feature(data_transformed_without_impute, \"days_since_recoreded\", 8)"
   ]
  },
  {
   "cell_type": "code",
   "execution_count": 80,
   "metadata": {},
   "outputs": [
    {
     "data": {
      "text/plain": [
       "Text(0, 0.5, 'Percentage')"
      ]
     },
     "execution_count": 80,
     "metadata": {},
     "output_type": "execute_result"
    },
    {
     "data": {
      "image/png": "[encoded data removed]",
      "text/plain": [
       "<Figure size 432x288 with 1 Axes>"
      ]
     },
     "metadata": {
      "needs_background": "light"
     },
     "output_type": "display_data"
    }
   ],
   "source": [
    "plt.pyplot.show()\n",
    "ax = ((data_transformed_without_impute[data_transformed_without_impute.status_group=='functional'].days_since_recoreded.value_counts().sort_index()/len(data_transformed_without_impute.status_group))*100).plot(kind='bar',color='g', x='days_since_recoreded')\n",
    "((data_transformed_without_impute[data_transformed_without_impute.status_group=='non functional'].days_since_recoreded.value_counts().sort_index()/len(data_transformed_without_impute.status_group))*100).plot(kind='bar',color='r', x='days_since_recoreded')\n",
    "((data_transformed_without_impute[data_transformed_without_impute.status_group=='functional needs repair'].days_since_recoreded.value_counts().sort_index()/len(data_transformed_without_impute.status_group)*100)).plot(kind='bar',color='b',alpha= 0.7, ax= ax, x='days_since_recoreded')\n",
    "ax.legend([\"functional\", \"non functional\",\"functional needs repair\"])\n",
    "plt.pyplot.title('Distribution of days_since_recoreded variable ')\n",
    "plt.pyplot.xlabel('days_since_recoreded')\n",
    "plt.pyplot.ylabel('Percentage')"
   ]
  },
  {
   "cell_type": "markdown",
   "metadata": {},
   "source": [
    "### Add distance to capital"
   ]
  },
  {
   "cell_type": "code",
   "execution_count": 81,
   "metadata": {},
   "outputs": [
    {
     "name": "stdout",
     "output_type": "stream",
     "text": [
      "added distance to capital\n"
     ]
    }
   ],
   "source": [
    "data_transformed_without_impute = distance_capital(data_transformed_without_impute)"
   ]
  },
  {
   "cell_type": "markdown",
   "metadata": {},
   "source": [
    "<p style=\"color:red;\"> -------------------------- CHECKPOINT</p>\n",
    "<p style=\"color:red;\"> -------------------------- SAVE to FE folder</p>\n"
   ]
  },
  {
   "cell_type": "code",
   "execution_count": 82,
   "metadata": {},
   "outputs": [],
   "source": [
    "data_transformed_without_impute.to_csv(\"FE_steps/4 train_data_NOIMPUTE_age_dayse_recorded_density_capital.csv\", index=False)"
   ]
  },
  {
   "cell_type": "code",
   "execution_count": 83,
   "metadata": {},
   "outputs": [],
   "source": [
    "data_transformed_without_impute = pd.read_csv(\"FE_steps/4 train_data_NOIMPUTE_age_dayse_recorded_density_capital.csv\")"
   ]
  },
  {
   "cell_type": "markdown",
   "metadata": {},
   "source": [
    "### Shortlisting columns"
   ]
  },
  {
   "cell_type": "markdown",
   "metadata": {},
   "source": [
    "Shortlist Trainning set columns"
   ]
  },
  {
   "cell_type": "code",
   "execution_count": 84,
   "metadata": {},
   "outputs": [
    {
     "name": "stdout",
     "output_type": "stream",
     "text": [
      "`installer` shortlisted to {'Commu', 'DANIDA', 'DWE', 'Government', 'RWE', 'other'} only \n",
      "\n",
      "`funder` shortlisted to {'Government Of Tanzania','Danida','Hesawa','Rwssp','World Bank','Kkkt','World Vision','Unicef','Tasaf','District Council', 'other'} only \n",
      "\n",
      "`lga` shortlisted to {'Njombe','Arusha Rural','Moshi Rural','Bariadi','Rungwe','Kilosa','Kasulu','Mbozi','Meru','Bagamoyo', 'other'} only \n",
      "\n",
      "`extraction_type` shortlisted to {'gravity','nira/tanira','submersible','swn 80','mono','india mark ii','afridev','ksb', 'other'} only \n",
      "\n",
      "`scheme_management` shortlisted to {'VWC','WUG','Water authority','WUA','Water Board','Parastatal','Private operator','Company', 'other'} only \n",
      "\n",
      "`region_code` shortlisted to {11,17,12,3,5,18,19,2,16,10,4,1,13,14,20, 'other'} only \n",
      "\n"
     ]
    }
   ],
   "source": [
    "# installer\n",
    "data_transformed_without_impute = shortlist_installer(data_transformed_without_impute)\n",
    "\n",
    "# funder\n",
    "data_transformed_without_impute = shortlist_funder(data_transformed_without_impute)\n",
    "\n",
    "# lga\n",
    "data_transformed_without_impute = shortlist_lga(data_transformed_without_impute)\n",
    "\n",
    "# extraction_type\n",
    "data_transformed_without_impute = shortlist_extraction_type(data_transformed_without_impute)\n",
    "\n",
    "#scheme_management\n",
    "data_transformed_without_impute = shortlist_scheme_management(data_transformed_without_impute)\n",
    "\n",
    "#region_code\n",
    "data_transformed_without_impute = shortlist_region_code(data_transformed_without_impute)"
   ]
  },
  {
   "cell_type": "markdown",
   "metadata": {},
   "source": [
    "<p style=\"color:red;\"> -------------------------- CHECKPOINT</p>\n",
    "<p style=\"color:red;\"> -------------------------- SAVE to FE folder</p>"
   ]
  },
  {
   "cell_type": "code",
   "execution_count": 85,
   "metadata": {},
   "outputs": [],
   "source": [
    "data_transformed_without_impute.to_csv(\"FE_steps/5 train_data_NOIMPUTE_age_dayse_recorded_density_capital_SHORTLISTING.csv\", index=False)"
   ]
  },
  {
   "cell_type": "code",
   "execution_count": 86,
   "metadata": {},
   "outputs": [],
   "source": [
    "data_transformed_without_impute = pd.read_csv(\"FE_steps/5 train_data_NOIMPUTE_age_dayse_recorded_density_capital_SHORTLISTING.csv\")"
   ]
  },
  {
   "cell_type": "markdown",
   "metadata": {},
   "source": [
    "# Correlation matrix"
   ]
  },
  {
   "cell_type": "code",
   "execution_count": 128,
   "metadata": {},
   "outputs": [
    {
     "data": {
      "text/plain": [
       "<matplotlib.axes._subplots.AxesSubplot at 0x1c228d6b38>"
      ]
     },
     "execution_count": 128,
     "metadata": {},
     "output_type": "execute_result"
    },
    {
     "data": {
      "image/png": "[encoded data removed]",
      "text/plain": [
       "<Figure size 1440x720 with 2 Axes>"
      ]
     },
     "metadata": {
      "needs_background": "light"
     },
     "output_type": "display_data"
    }
   ],
   "source": [
    "plt.pyplot.figure(figsize=(20,10))\n",
    "sns.heatmap(train_data_transformed.corr(),cbar=True,fmt =' .2f', annot=True, cmap='viridis')"
   ]
  },
  {
   "cell_type": "markdown",
   "metadata": {},
   "source": [
    "#  Save Data"
   ]
  },
  {
   "cell_type": "code",
   "execution_count": 129,
   "metadata": {},
   "outputs": [],
   "source": [
    "#train_data_transformed.status_group.replace(['functional', 'non functional','functional needs repair'], [1, 2, 3], inplace=True)\n",
    "labels_prepared = train_data_transformed[[\"status_group\"]]\n",
    "train_data_transformed = train_data_transformed.drop(columns=[\"status_group\"])\n",
    "\n",
    "#train_data_transformed = onehot_encode(train_data_transformed)\n",
    "train_data_transformed.to_csv(\"./FE_Final/train_data_prepared.csv\", index=False)\n",
    "test_data_transformed.to_csv(\"./FE_Final/test_data_prepared.csv\", index=False)"
   ]
  },
  {
   "cell_type": "code",
   "execution_count": null,
   "metadata": {},
   "outputs": [],
   "source": []
  }
 ],
 "metadata": {
  "kernelspec": {
   "display_name": "Python 3",
   "language": "python",
   "name": "python3"
  },
  "language_info": {
   "codemirror_mode": {
    "name": "ipython",
    "version": 3
   },
   "file_extension": ".py",
   "mimetype": "text/x-python",
   "name": "python",
   "nbconvert_exporter": "python",
   "pygments_lexer": "ipython3",
   "version": "3.7.1"
  }
 },
 "nbformat": 4,
 "nbformat_minor": 2
}
