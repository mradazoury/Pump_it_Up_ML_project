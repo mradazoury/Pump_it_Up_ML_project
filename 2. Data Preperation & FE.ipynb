{
 "cells": [
  {
   "cell_type": "code",
   "execution_count": 531,
   "metadata": {},
   "outputs": [
    {
     "name": "stdout",
     "output_type": "stream",
     "text": [
      "Once deleted, variables cannot be recovered. Proceed (y/[n])? y\n"
     ]
    }
   ],
   "source": [
    "%reset"
   ]
  },
  {
   "cell_type": "markdown",
   "metadata": {},
   "source": [
    "#  2. Data preperation"
   ]
  },
  {
   "cell_type": "code",
   "execution_count": 542,
   "metadata": {},
   "outputs": [
    {
     "name": "stdout",
     "output_type": "stream",
     "text": [
      "The autoreload extension is already loaded. To reload it, use:\n",
      "  %reload_ext autoreload\n"
     ]
    }
   ],
   "source": [
    "%load_ext autoreload\n",
    "%aimport data_prep\n",
    "%run data_prep.py\n",
    "%autoreload 1"
   ]
  },
  {
   "cell_type": "markdown",
   "metadata": {},
   "source": [
    "### Load Datasets & Join both Datasets"
   ]
  },
  {
   "cell_type": "code",
   "execution_count": 533,
   "metadata": {},
   "outputs": [
    {
     "name": "stdout",
     "output_type": "stream",
     "text": [
      "`status_group` added to train_data \n",
      "\n"
     ]
    }
   ],
   "source": [
    "train_data = pd.read_csv(\"original_datasets/training_set_values.csv\")\n",
    "train_labels = pd.read_csv(\"original_datasets/training_set_labels.csv\")\n",
    "test_data = pd.read_csv(\"original_datasets/test_set_values.csv\")\n",
    "\n",
    "#Join Labels with Train data\n",
    "train_data = addLabelToTrainData(train_data, train_labels)\n",
    "test_data['status_group'] = 'test'\n",
    "#test_data.insert(0, 'My 2nd new column', 'default value 2')\n",
    "train_data['is_test'] = 0\n",
    "test_data['is_test'] = 1\n",
    "\n",
    "data = pd.concat([train_data,test_data],ignore_index=True)"
   ]
  },
  {
   "cell_type": "markdown",
   "metadata": {},
   "source": [
    "## Start Transformoing on a copy"
   ]
  },
  {
   "cell_type": "code",
   "execution_count": 534,
   "metadata": {},
   "outputs": [],
   "source": [
    "data_transformed = data.copy()"
   ]
  },
  {
   "cell_type": "markdown",
   "metadata": {},
   "source": [
    "### Impute Values "
   ]
  },
  {
   "cell_type": "markdown",
   "metadata": {},
   "source": [
    "Impute for Train"
   ]
  },
  {
   "cell_type": "code",
   "execution_count": 535,
   "metadata": {},
   "outputs": [
    {
     "name": "stdout",
     "output_type": "stream",
     "text": [
      "amount_tsh imputed with mean for regions: ['Dodoma','Kagera','Mbeya','Tabora']\n"
     ]
    }
   ],
   "source": [
    "# Impute 0 for regions of 'Dodoma','Kagera','Mbeya','Tabora' this regions 0 ar actually missing values\n",
    "data_transformed = amount_tsh_impute_regions(data_transformed)"
   ]
  },
  {
   "cell_type": "code",
   "execution_count": 536,
   "metadata": {},
   "outputs": [
    {
     "name": "stdout",
     "output_type": "stream",
     "text": [
      "latitude imputed with mean\n"
     ]
    }
   ],
   "source": [
    "#Impute Latitude by the mean of the geographical areas (increasing order \"subvillage\", \"ward\", \"lga\", \"district_code\", \"region\", \"basin\")\n",
    "data_transformed = impute_column(data_transformed, \"latitude\")\n"
   ]
  },
  {
   "cell_type": "code",
   "execution_count": 537,
   "metadata": {},
   "outputs": [
    {
     "name": "stdout",
     "output_type": "stream",
     "text": [
      "longitude imputed with mean\n"
     ]
    }
   ],
   "source": [
    "#Impute Longitude by the mean of the geographical areas (increasing order \"subvillage\", \"ward\", \"lga\", \"district_code\", \"region\", \"basin\")\n",
    "data_transformed = impute_column(data_transformed, \"longitude\")"
   ]
  },
  {
   "cell_type": "code",
   "execution_count": 538,
   "metadata": {},
   "outputs": [
    {
     "name": "stdout",
     "output_type": "stream",
     "text": [
      "population imputed with mean\n"
     ]
    }
   ],
   "source": [
    "#Impute Population by the mean of the geographical areas (increasing order \"subvillage\", \"ward\", \"lga\", \"district_code\", \"region\", \"basin\")\n",
    "data_transformed = impute_column(data_transformed, \"population\")\n"
   ]
  },
  {
   "cell_type": "markdown",
   "metadata": {},
   "source": [
    "<p style=\"color:red;\"> -------------------------- CHECKPOINT</p>\n",
    "<p style=\"color:red;\"> -------------------------- SAVE to FE folder</p>\n"
   ]
  },
  {
   "cell_type": "code",
   "execution_count": 539,
   "metadata": {},
   "outputs": [],
   "source": [
    "data_transformed.to_csv(\"./FE_steps/1 train_data_imputed.csv\", index=False)"
   ]
  },
  {
   "cell_type": "code",
   "execution_count": 540,
   "metadata": {},
   "outputs": [],
   "source": [
    "data_transformed = pd.read_csv(\"./FE_steps/1 train_data_imputed.csv\")"
   ]
  },
  {
   "cell_type": "markdown",
   "metadata": {},
   "source": [
    "### Add Outside Data"
   ]
  },
  {
   "cell_type": "code",
   "execution_count": 543,
   "metadata": {},
   "outputs": [
    {
     "name": "stdout",
     "output_type": "stream",
     "text": [
      "added densityn\n"
     ]
    }
   ],
   "source": [
    "data_transformed = density(data_transformed)"
   ]
  },
  {
   "cell_type": "markdown",
   "metadata": {},
   "source": [
    "### Conversions\n",
    "#### Convert `construction_year`"
   ]
  },
  {
   "cell_type": "code",
   "execution_count": 108,
   "metadata": {},
   "outputs": [
    {
     "name": "stdout",
     "output_type": "stream",
     "text": [
      "`construction_year` converted to `age`, which is elapsed years (zeroes ignored) \n",
      "\n"
     ]
    }
   ],
   "source": [
    "# construction_year - converts it to years elapsed (AKA age) -- (zeroes ignored)\n",
    "train_data_transformed = convert_construction_year(train_data_transformed)"
   ]
  },
  {
   "cell_type": "code",
   "execution_count": 109,
   "metadata": {},
   "outputs": [
    {
     "name": "stdout",
     "output_type": "stream",
     "text": [
      "`construction_year` converted to `age`, which is elapsed years (zeroes ignored) \n",
      "\n"
     ]
    }
   ],
   "source": [
    "# construction_year - converts it to years elapsed (AKA age) -- (zeroes ignored)\n",
    "test_data_transformed = convert_construction_year(test_data_transformed)"
   ]
  },
  {
   "cell_type": "markdown",
   "metadata": {},
   "source": [
    "#### Convert `date_recorded`"
   ]
  },
  {
   "cell_type": "code",
   "execution_count": 110,
   "metadata": {},
   "outputs": [
    {
     "name": "stdout",
     "output_type": "stream",
     "text": [
      "`date_recorded` converted to `days_since_recoreded`, which is elapsed days (zeroes ignored) \n",
      "\n"
     ]
    }
   ],
   "source": [
    "train_data_transformed = convert_date_recorded(train_data_transformed)"
   ]
  },
  {
   "cell_type": "code",
   "execution_count": 111,
   "metadata": {},
   "outputs": [
    {
     "name": "stdout",
     "output_type": "stream",
     "text": [
      "`date_recorded` converted to `days_since_recoreded`, which is elapsed days (zeroes ignored) \n",
      "\n"
     ]
    }
   ],
   "source": [
    "test_data_transformed = convert_date_recorded(test_data_transformed)"
   ]
  },
  {
   "cell_type": "markdown",
   "metadata": {},
   "source": [
    "## Impute construction year"
   ]
  },
  {
   "cell_type": "code",
   "execution_count": 112,
   "metadata": {},
   "outputs": [
    {
     "name": "stdout",
     "output_type": "stream",
     "text": [
      "age imputed mean\n"
     ]
    }
   ],
   "source": [
    "train_data_transformed = impute_construction_year(train_data_transformed)"
   ]
  },
  {
   "cell_type": "code",
   "execution_count": 113,
   "metadata": {},
   "outputs": [
    {
     "name": "stdout",
     "output_type": "stream",
     "text": [
      "age imputed mean\n"
     ]
    }
   ],
   "source": [
    "test_data_transformed = impute_construction_year(test_data_transformed)"
   ]
  },
  {
   "cell_type": "markdown",
   "metadata": {},
   "source": [
    "<p style=\"color:red;\"> -------------------------- CHECKPOINT</p>\n",
    "<p style=\"color:red;\"> -------------------------- SAVE to FE folder</p>\n"
   ]
  },
  {
   "cell_type": "code",
   "execution_count": 114,
   "metadata": {},
   "outputs": [],
   "source": [
    "train_data_transformed.to_csv(\"./FE_steps/2 train_data_density_age_recorded.csv\", index=False)\n",
    "test_data_transformed.to_csv(\"./FE_steps/2 test_data_density_age_recorded.csv\", index=False)"
   ]
  },
  {
   "cell_type": "code",
   "execution_count": 115,
   "metadata": {},
   "outputs": [],
   "source": [
    "train_data_transformed = pd.read_csv(\"./FE_steps/2 train_data_density_age_recorded.csv\")\n",
    "test_data_transformed = pd.read_csv(\"./FE_steps/2 test_data_density_age_recorded.csv\")"
   ]
  },
  {
   "cell_type": "markdown",
   "metadata": {},
   "source": [
    "### Binning"
   ]
  },
  {
   "cell_type": "markdown",
   "metadata": {},
   "source": [
    "Try one iteration without binning"
   ]
  },
  {
   "cell_type": "code",
   "execution_count": 116,
   "metadata": {},
   "outputs": [
    {
     "name": "stdout",
     "output_type": "stream",
     "text": [
      "`days_since_recoreded` has been binned to 8 categories:\n",
      "IntervalIndex([(1922.999, 2195.0], (2195.0, 2220.0], (2220.0, 2240.0], (2240.0, 2342.0], (2342.0, 2789.0], (2789.0, 2900.0], (2900.0, 2919.0], (2919.0, 5991.0]]\n",
      "              closed='right',\n",
      "              dtype='interval[float64]')\n",
      "\n",
      "\n"
     ]
    }
   ],
   "source": [
    "train_data_transformed = bin_feature(train_data_transformed, \"days_since_recoreded\", 8)"
   ]
  },
  {
   "cell_type": "code",
   "execution_count": 117,
   "metadata": {},
   "outputs": [
    {
     "data": {
      "text/plain": [
       "Text(0, 0.5, 'Percentage')"
      ]
     },
     "execution_count": 117,
     "metadata": {},
     "output_type": "execute_result"
    },
    {
     "data": {
      "image/png": "[encoded data removed]",
      "text/plain": [
       "<Figure size 432x288 with 1 Axes>"
      ]
     },
     "metadata": {
      "needs_background": "light"
     },
     "output_type": "display_data"
    }
   ],
   "source": [
    "plt.pyplot.show()\n",
    "ax = ((train_data_transformed[train_data_transformed.status_group=='functional'].days_since_recoreded.value_counts().sort_index()/len(train_data_transformed.status_group))*100).plot(kind='bar',color='g', x='days_since_recoreded')\n",
    "((train_data_transformed[train_data_transformed.status_group=='non functional'].days_since_recoreded.value_counts().sort_index()/len(train_data_transformed.status_group))*100).plot(kind='bar',color='r', x='days_since_recoreded')\n",
    "((train_data_transformed[train_data_transformed.status_group=='functional needs repair'].days_since_recoreded.value_counts().sort_index()/len(train_data_transformed.status_group)*100)).plot(kind='bar',color='b',alpha= 0.7, ax= ax, x='days_since_recoreded')\n",
    "ax.legend([\"functional\", \"non functional\",\"functional needs repair\"])\n",
    "plt.pyplot.title('Distribution of days_since_recoreded variable ')\n",
    "plt.pyplot.xlabel('days_since_recoreded')\n",
    "plt.pyplot.ylabel('Percentage')"
   ]
  },
  {
   "cell_type": "code",
   "execution_count": 118,
   "metadata": {},
   "outputs": [
    {
     "name": "stdout",
     "output_type": "stream",
     "text": [
      "`days_since_recoreded` has been binned to 8 categories:\n",
      "IntervalIndex([(1922.999, 2196.0], (2196.0, 2221.0], (2221.0, 2241.0], (2241.0, 2345.0], (2345.0, 2790.0], (2790.0, 2901.0], (2901.0, 2920.0], (2920.0, 6558.0]]\n",
      "              closed='right',\n",
      "              dtype='interval[float64]')\n",
      "\n",
      "\n"
     ]
    }
   ],
   "source": [
    "test_data_transformed = bin_feature(test_data_transformed, \"days_since_recoreded\", 8)"
   ]
  },
  {
   "cell_type": "markdown",
   "metadata": {},
   "source": [
    "### Add distance to capital"
   ]
  },
  {
   "cell_type": "code",
   "execution_count": 119,
   "metadata": {},
   "outputs": [
    {
     "name": "stdout",
     "output_type": "stream",
     "text": [
      "added distance to capital\n"
     ]
    }
   ],
   "source": [
    "train_data_transformed = distance_capital(train_data_transformed)"
   ]
  },
  {
   "cell_type": "code",
   "execution_count": 120,
   "metadata": {},
   "outputs": [
    {
     "name": "stdout",
     "output_type": "stream",
     "text": [
      "added distance to capital\n"
     ]
    }
   ],
   "source": [
    "test_data_transformed = distance_capital(test_data_transformed)"
   ]
  },
  {
   "cell_type": "code",
   "execution_count": null,
   "metadata": {},
   "outputs": [],
   "source": []
  },
  {
   "cell_type": "markdown",
   "metadata": {},
   "source": [
    "<p style=\"color:red;\"> -------------------------- CHECKPOINT</p>\n",
    "<p style=\"color:red;\"> -------------------------- SAVE to FE folder</p>\n"
   ]
  },
  {
   "cell_type": "code",
   "execution_count": 121,
   "metadata": {},
   "outputs": [],
   "source": [
    "train_data_transformed.to_csv(\"FE_steps/3 train_data_binning_distance.csv\", index=False)\n",
    "test_data_transformed.to_csv(\"FE_steps/3 test_data_binning_distance.csv\", index=False)"
   ]
  },
  {
   "cell_type": "code",
   "execution_count": 122,
   "metadata": {},
   "outputs": [],
   "source": [
    "train_data_transformed = pd.read_csv(\"FE_steps/3 train_data_binning_distance.csv\")\n",
    "test_data_transformed = pd.read_csv(\"FE_steps/3 test_data_binning_distance.csv\")"
   ]
  },
  {
   "cell_type": "markdown",
   "metadata": {},
   "source": [
    "### Shortlisting columns"
   ]
  },
  {
   "cell_type": "markdown",
   "metadata": {},
   "source": [
    "Shortlist Trainning set columns"
   ]
  },
  {
   "cell_type": "code",
   "execution_count": 95,
   "metadata": {},
   "outputs": [
    {
     "name": "stdout",
     "output_type": "stream",
     "text": [
      "`installer` shortlisted to {'Commu', 'DANIDA', 'DWE', 'Government', 'RWE', 'other'} only \n",
      "\n",
      "`funder` shortlisted to {'Government Of Tanzania','Danida','Hesawa','Rwssp','World Bank','Kkkt','World Vision','Unicef','Tasaf','District Council', 'other'} only \n",
      "\n",
      "`lga` shortlisted to {'Njombe','Arusha Rural','Moshi Rural','Bariadi','Rungwe','Kilosa','Kasulu','Mbozi','Meru','Bagamoyo', 'other'} only \n",
      "\n",
      "`extraction_type` shortlisted to {'gravity','nira/tanira','submersible','swn 80','mono','india mark ii','afridev','ksb', 'other'} only \n",
      "\n",
      "`scheme_management` shortlisted to {'VWC','WUG','Water authority','WUA','Water Board','Parastatal','Private operator','Company', 'other'} only \n",
      "\n",
      "`region_code` shortlisted to {11,17,12,3,5,18,19,2,16,10,4,1,13,14,20, 'other'} only \n",
      "\n"
     ]
    }
   ],
   "source": [
    "train_data_transformed = train_data.copy()\n",
    "\n",
    "\n",
    "# installer\n",
    "train_data_transformed = shortlist_installer(train_data_transformed)\n",
    "\n",
    "# funder\n",
    "train_data_transformed = shortlist_funder(train_data_transformed)\n",
    "\n",
    "# lga\n",
    "train_data_transformed = shortlist_lga(train_data_transformed)\n",
    "\n",
    "# extraction_type\n",
    "train_data_transformed = shortlist_extraction_type(train_data_transformed)\n",
    "\n",
    "#scheme_management\n",
    "train_data_transformed = shortlist_scheme_management(train_data_transformed)\n",
    "\n",
    "#region_code\n",
    "train_data_transformed = shortlist_region_code(train_data_transformed)\n",
    "\n",
    "\n"
   ]
  },
  {
   "cell_type": "markdown",
   "metadata": {},
   "source": [
    "Shortlist test set columns"
   ]
  },
  {
   "cell_type": "code",
   "execution_count": 96,
   "metadata": {},
   "outputs": [
    {
     "name": "stdout",
     "output_type": "stream",
     "text": [
      "`installer` shortlisted to {'Commu', 'DANIDA', 'DWE', 'Government', 'RWE', 'other'} only \n",
      "\n",
      "`funder` shortlisted to {'Government Of Tanzania','Danida','Hesawa','Rwssp','World Bank','Kkkt','World Vision','Unicef','Tasaf','District Council', 'other'} only \n",
      "\n",
      "`lga` shortlisted to {'Njombe','Arusha Rural','Moshi Rural','Bariadi','Rungwe','Kilosa','Kasulu','Mbozi','Meru','Bagamoyo', 'other'} only \n",
      "\n",
      "`extraction_type` shortlisted to {'gravity','nira/tanira','submersible','swn 80','mono','india mark ii','afridev','ksb', 'other'} only \n",
      "\n",
      "`scheme_management` shortlisted to {'VWC','WUG','Water authority','WUA','Water Board','Parastatal','Private operator','Company', 'other'} only \n",
      "\n",
      "`region_code` shortlisted to {11,17,12,3,5,18,19,2,16,10,4,1,13,14,20, 'other'} only \n",
      "\n"
     ]
    }
   ],
   "source": [
    "test_data_transformed = test_data.copy()\n",
    "\n",
    "\n",
    "# installer\n",
    "test_data_transformed = shortlist_installer(test_data_transformed)\n",
    "\n",
    "# funder\n",
    "test_data_transformed = shortlist_funder(test_data_transformed)\n",
    "\n",
    "# lga\n",
    "test_data_transformed = shortlist_lga(test_data_transformed)\n",
    "\n",
    "# extraction_type\n",
    "test_data_transformed = shortlist_extraction_type(test_data_transformed)\n",
    "\n",
    "#scheme_management\n",
    "test_data_transformed = shortlist_scheme_management(test_data_transformed)\n",
    "\n",
    "#region_code\n",
    "test_data_transformed = shortlist_region_code(test_data_transformed)\n",
    "\n",
    "\n"
   ]
  },
  {
   "cell_type": "markdown",
   "metadata": {},
   "source": [
    "### Fixing the Skewness"
   ]
  },
  {
   "cell_type": "code",
   "execution_count": 123,
   "metadata": {},
   "outputs": [],
   "source": [
    "temp = train_data_transformed[['amount_tsh', 'gps_height', 'population', 'age','density']]\n",
    "train_data_transformed = train_data_transformed.drop(columns = ['amount_tsh', 'gps_height', 'population', 'age','density'])\n",
    "\n",
    "#fix skewness\n",
    "feature_skewness(temp)\n",
    "temp = fix_skewness(temp)"
   ]
  },
  {
   "cell_type": "code",
   "execution_count": 124,
   "metadata": {},
   "outputs": [],
   "source": [
    "train_data_transformed = train_data_transformed.join(temp)"
   ]
  },
  {
   "cell_type": "markdown",
   "metadata": {},
   "source": [
    "## Dropping Cols"
   ]
  },
  {
   "cell_type": "code",
   "execution_count": null,
   "metadata": {},
   "outputs": [],
   "source": [
    "data = dropCols(data)"
   ]
  },
  {
   "cell_type": "markdown",
   "metadata": {},
   "source": [
    "# Correlation matrix"
   ]
  },
  {
   "cell_type": "code",
   "execution_count": 128,
   "metadata": {},
   "outputs": [
    {
     "data": {
      "text/plain": [
       "<matplotlib.axes._subplots.AxesSubplot at 0x1c228d6b38>"
      ]
     },
     "execution_count": 128,
     "metadata": {},
     "output_type": "execute_result"
    },
    {
     "data": {
      "image/png": "[encoded data removed]",
      "text/plain": [
       "<Figure size 1440x720 with 2 Axes>"
      ]
     },
     "metadata": {
      "needs_background": "light"
     },
     "output_type": "display_data"
    }
   ],
   "source": [
    "plt.pyplot.figure(figsize=(20,10))\n",
    "sns.heatmap(train_data_transformed.corr(),cbar=True,fmt =' .2f', annot=True, cmap='viridis')"
   ]
  },
  {
   "cell_type": "markdown",
   "metadata": {},
   "source": [
    "#  Save Data"
   ]
  },
  {
   "cell_type": "code",
   "execution_count": 129,
   "metadata": {},
   "outputs": [],
   "source": [
    "#train_data_transformed.status_group.replace(['functional', 'non functional','functional needs repair'], [1, 2, 3], inplace=True)\n",
    "labels_prepared = train_data_transformed[[\"status_group\"]]\n",
    "train_data_transformed = train_data_transformed.drop(columns=[\"status_group\"])\n",
    "\n",
    "#train_data_transformed = onehot_encode(train_data_transformed)\n",
    "train_data_transformed.to_csv(\"./FE_Final/train_data_prepared.csv\", index=False)\n",
    "test_data_transformed.to_csv(\"./FE_Final/test_data_prepared.csv\", index=False)"
   ]
  },
  {
   "cell_type": "code",
   "execution_count": null,
   "metadata": {},
   "outputs": [],
   "source": []
  }
 ],
 "metadata": {
  "kernelspec": {
   "display_name": "Python 3",
   "language": "python",
   "name": "python3"
  },
  "language_info": {
   "codemirror_mode": {
    "name": "ipython",
    "version": 3
   },
   "file_extension": ".py",
   "mimetype": "text/x-python",
   "name": "python",
   "nbconvert_exporter": "python",
   "pygments_lexer": "ipython3",
   "version": "3.7.1"
  }
 },
 "nbformat": 4,
 "nbformat_minor": 2
}
