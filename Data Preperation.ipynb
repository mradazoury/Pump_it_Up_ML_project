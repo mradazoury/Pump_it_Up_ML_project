{
 "cells": [
  {
   "cell_type": "code",
   "execution_count": 1,
   "metadata": {},
   "outputs": [
    {
     "name": "stdout",
     "output_type": "stream",
     "text": [
      "Once deleted, variables cannot be recovered. Proceed (y/[n])? y\n"
     ]
    }
   ],
   "source": [
    "%reset"
   ]
  },
  {
   "cell_type": "markdown",
   "metadata": {},
   "source": [
    "#  Packages & Imports"
   ]
  },
  {
   "cell_type": "code",
   "execution_count": 2,
   "metadata": {},
   "outputs": [],
   "source": [
    "import numpy as np\n",
    "import pandas as pd\n",
    "import matplotlib as plt\n",
    "import seaborn as sns\n",
    "import sklearn as skl\n",
    "import warnings\n",
    "import statsmodels.api as sm\n",
    "\n",
    "from sklearn import datasets, linear_model\n",
    "from sklearn.linear_model import LogisticRegression\n",
    "from sklearn.metrics import mean_squared_error\n",
    "from sklearn.model_selection import train_test_split, KFold, GridSearchCV\n",
    "from sklearn.model_selection import cross_val_score, cross_val_predict, ShuffleSplit, validation_curve, cross_validate\n",
    "from sklearn.pipeline import make_pipeline\n",
    "from sklearn.preprocessing import LabelBinarizer, RobustScaler, LabelEncoder, scale, MinMaxScaler, PolynomialFeatures\n",
    "from sklearn.ensemble import ExtraTreesClassifier\n",
    "from sklearn.metrics import accuracy_score, classification_report, roc_curve, roc_auc_score, confusion_matrix\n",
    "from sklearn.decomposition import PCA\n",
    "from sklearn import datasets\n",
    "from sklearn.feature_selection import RFE,SelectFromModel\n",
    "\n",
    "from sklearn.ensemble import RandomForestClassifier as RFC\n",
    "from sklearn.datasets import make_classification\n",
    "\n",
    "from xgboost import XGBClassifier \n",
    "\n",
    "from scipy.stats import skew, boxcox_normmax\n",
    "from scipy.special import boxcox1p\n",
    "\n",
    "warnings.filterwarnings('ignore')\n",
    "warnings.simplefilter(action='ignore', category=FutureWarning)\n",
    "warnings.simplefilter(action='ignore', category=DeprecationWarning)\n",
    "warnings.simplefilter('ignore')\n"
   ]
  },
  {
   "cell_type": "markdown",
   "metadata": {},
   "source": [
    "### Helper Functions"
   ]
  },
  {
   "cell_type": "code",
   "execution_count": 3,
   "metadata": {},
   "outputs": [],
   "source": [
    "%load_ext autoreload\n",
    "%aimport data_prep\n",
    "%run data_prep.py\n",
    "%autoreload 1"
   ]
  },
  {
   "cell_type": "markdown",
   "metadata": {},
   "source": [
    "### Load Datasets"
   ]
  },
  {
   "cell_type": "code",
   "execution_count": 4,
   "metadata": {},
   "outputs": [],
   "source": [
    "train_data = pd.read_csv(\"training_set_values.csv\")\n",
    "train_labels = pd.read_csv(\"training_set_labels.csv\")\n",
    "test_data = pd.read_csv(\"test_set_values.csv\")"
   ]
  },
  {
   "cell_type": "markdown",
   "metadata": {},
   "source": [
    "### Columns cleaning"
   ]
  },
  {
   "cell_type": "code",
   "execution_count": 5,
   "metadata": {},
   "outputs": [
    {
     "name": "stdout",
     "output_type": "stream",
     "text": [
      "`status_group` added to train_data \n",
      "\n",
      "['id', 'recorded_by', 'scheme_name', 'ward', 'wpt_name', 'subvillage', 'waterpoint_type_group'] removed from dataset \n",
      "\n",
      "['id', 'recorded_by', 'scheme_name', 'ward', 'wpt_name', 'subvillage', 'waterpoint_type_group'] removed from dataset \n",
      "\n"
     ]
    }
   ],
   "source": [
    "#Join Labels with Train data\n",
    "train_data = addLabelToTrainData(train_data, train_labels)\n",
    "\n",
    "#Drop id and recorded from train dataset \n",
    "train_data = prepareCols(train_data)\n",
    "test_data = prepareCols(test_data)\n"
   ]
  },
  {
   "cell_type": "markdown",
   "metadata": {},
   "source": [
    "### Shortlisting columns"
   ]
  },
  {
   "cell_type": "code",
   "execution_count": 6,
   "metadata": {},
   "outputs": [
    {
     "name": "stdout",
     "output_type": "stream",
     "text": [
      "`installer` shortlisted to {'Commu', 'DANIDA', 'DWE', 'Government', 'RWE', 'other'} only \n",
      "\n",
      "`funder` shortlisted to {'Government Of Tanzania','Danida','Hesawa','Rwssp','World Bank','Kkkt','World Vision','Unicef','Tasaf','District Council', 'other'} only \n",
      "\n",
      "`lga` shortlisted to {'Njombe','Arusha Rural','Moshi Rural','Bariadi','Rungwe','Kilosa','Kasulu','Mbozi','Meru','Bagamoyo', 'other'} only \n",
      "\n"
     ]
    }
   ],
   "source": [
    "train_data_transformed = train_data.copy()\n",
    "\n",
    "# installer\n",
    "train_data_transformed = shortlist_installer(train_data_transformed)\n",
    "\n",
    "# funder\n",
    "train_data_transformed = shortlist_funder(train_data_transformed)\n",
    "\n",
    "# lga\n",
    "train_data_transformed = shortlist_lga(train_data_transformed)"
   ]
  },
  {
   "cell_type": "markdown",
   "metadata": {},
   "source": [
    "### Conversions\n",
    "#### Convert `construction_year`"
   ]
  },
  {
   "cell_type": "code",
   "execution_count": 7,
   "metadata": {},
   "outputs": [
    {
     "name": "stdout",
     "output_type": "stream",
     "text": [
      "`construction_year` converted to `age`, which is elapsed years (zeroes ignored) \n",
      "\n"
     ]
    }
   ],
   "source": [
    "# construction_year - converts it to years elapsed (AKA age) -- (zeroes ignored)\n",
    "train_data_transformed = convert_construction_year(train_data_transformed)"
   ]
  },
  {
   "cell_type": "markdown",
   "metadata": {},
   "source": [
    "### ^^^^^^^^^^^^^^^^^^^^^^^^^^ What to do with zeores here ? (summary  ↓ ) -- currently imputing with median"
   ]
  },
  {
   "cell_type": "code",
   "execution_count": 8,
   "metadata": {},
   "outputs": [
    {
     "name": "stdout",
     "output_type": "stream",
     "text": [
      "% of zeroes: 0.34863636363636363\n",
      "mean: 22.185314414204854\n",
      "median: 19.0\n"
     ]
    }
   ],
   "source": [
    "zeroes =    train_data_transformed['age'][train_data_transformed['age'] == 0].count() / train_data_transformed['age'].count()\n",
    "mean = np.mean(train_data_transformed['age'][train_data_transformed['age'] != 0])\n",
    "median = np.median(train_data_transformed['age'][train_data_transformed['age'] != 0])\n",
    "\n",
    "print(\"% of zeroes: {}\".format(zeroes))\n",
    "\n",
    "print(\"mean: {}\".format(mean))\n",
    "\n",
    "\n",
    "print(\"median: {}\".format(median))\n",
    "\n",
    "# impute with median\n",
    "train_data_transformed[train_data_transformed['age'] == 0][[\"age\"]] = median"
   ]
  },
  {
   "cell_type": "markdown",
   "metadata": {},
   "source": [
    "#### Convert `date_recorded`"
   ]
  },
  {
   "cell_type": "code",
   "execution_count": 9,
   "metadata": {},
   "outputs": [
    {
     "name": "stdout",
     "output_type": "stream",
     "text": [
      "`date_recorded` converted to `days_since_recoreded`, which is elapsed days (zeroes ignored) \n",
      "\n"
     ]
    }
   ],
   "source": [
    "train_data_transformed = convert_date_recorded(train_data_transformed)"
   ]
  },
  {
   "cell_type": "code",
   "execution_count": 10,
   "metadata": {},
   "outputs": [],
   "source": [
    "### Mapping long and lat to city"
   ]
  },
  {
   "cell_type": "markdown",
   "metadata": {},
   "source": [
    "### Binning"
   ]
  },
  {
   "cell_type": "code",
   "execution_count": 11,
   "metadata": {},
   "outputs": [
    {
     "name": "stdout",
     "output_type": "stream",
     "text": [
      "`days_since_recoreded` has been binned to 10 categories:\n",
      "IntervalIndex([(1916.932, 2327.8], (2327.8, 2734.6], (2734.6, 3141.4], (5175.4, 5582.2], (5582.2, 5989.0]]\n",
      "              closed='right',\n",
      "              dtype='interval[float64]')\n",
      "\n",
      "\n"
     ]
    }
   ],
   "source": [
    "train_data_transformed = bin_feature(train_data_transformed, \"days_since_recoreded\", 10)"
   ]
  },
  {
   "cell_type": "code",
   "execution_count": 12,
   "metadata": {},
   "outputs": [
    {
     "data": {
      "text/plain": [
       "['installer',\n",
       " 'permit',\n",
       " 'region_code',\n",
       " 'lga',\n",
       " 'water_quality',\n",
       " 'extraction_type_class',\n",
       " 'status_group',\n",
       " 'management',\n",
       " 'source',\n",
       " 'district_code',\n",
       " 'scheme_management',\n",
       " 'region',\n",
       " 'source_type',\n",
       " 'days_since_recoreded',\n",
       " 'quality_group',\n",
       " 'quantity',\n",
       " 'age',\n",
       " 'management_group',\n",
       " 'source_class',\n",
       " 'payment_type',\n",
       " 'extraction_type_group',\n",
       " 'waterpoint_type',\n",
       " 'quantity_group',\n",
       " 'public_meeting',\n",
       " 'basin',\n",
       " 'funder',\n",
       " 'payment',\n",
       " 'extraction_type']"
      ]
     },
     "execution_count": 12,
     "metadata": {},
     "output_type": "execute_result"
    }
   ],
   "source": [
    "numerical = ['amount_tsh', 'gps_height', 'num_private', 'population']\n",
    "other = ['longitude', 'latitude', \"status_code\"]\n",
    "categorical = list(set(train_data_transformed.columns) - set(numerical) - set(other))\n",
    "categorical"
   ]
  },
  {
   "cell_type": "markdown",
   "metadata": {},
   "source": [
    "# Correlation matrix"
   ]
  },
  {
   "cell_type": "code",
   "execution_count": 13,
   "metadata": {},
   "outputs": [
    {
     "data": {
      "text/plain": [
       "<matplotlib.axes._subplots.AxesSubplot at 0x1c239338d0>"
      ]
     },
     "execution_count": 13,
     "metadata": {},
     "output_type": "execute_result"
    },
    {
     "data": {
      "image/png": "[encoded data removed]",
      "text/plain": [
       "<Figure size 1440x720 with 2 Axes>"
      ]
     },
     "metadata": {
      "needs_background": "light"
     },
     "output_type": "display_data"
    }
   ],
   "source": [
    "plt.pyplot.figure(figsize=(20,10))\n",
    "sns.heatmap(train_data_transformed.corr(),cbar=True,fmt =' .2f', annot=True, cmap='viridis')"
   ]
  },
  {
   "cell_type": "markdown",
   "metadata": {},
   "source": [
    "# Hot Encode & Save Data"
   ]
  },
  {
   "cell_type": "code",
   "execution_count": 14,
   "metadata": {},
   "outputs": [],
   "source": [
    "labels_prepared = train_data_transformed[[\"status_group\"]]\n",
    "train_data_transformed = train_data_transformed.drop(columns=[\"status_group\"])\n",
    "train_data_transformed = onehot_encode(train_data_transformed)\n",
    "train_data_transformed.to_csv(\"train_data_prepared.csv\")\n",
    "labels_prepared.to_csv(\"labels_prepared.csv\")"
   ]
  },
  {
   "cell_type": "code",
   "execution_count": null,
   "metadata": {},
   "outputs": [],
   "source": []
  }
 ],
 "metadata": {
  "kernelspec": {
   "display_name": "Python 3",
   "language": "python",
   "name": "python3"
  },
  "language_info": {
   "codemirror_mode": {
    "name": "ipython",
    "version": 3
   },
   "file_extension": ".py",
   "mimetype": "text/x-python",
   "name": "python",
   "nbconvert_exporter": "python",
   "pygments_lexer": "ipython3",
   "version": "3.7.1"
  }
 },
 "nbformat": 4,
 "nbformat_minor": 2
}
