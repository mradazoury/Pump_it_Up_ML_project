{
 "cells": [
  {
   "cell_type": "code",
   "execution_count": 1,
   "metadata": {},
   "outputs": [
    {
     "name": "stdout",
     "output_type": "stream",
     "text": [
      "Once deleted, variables cannot be recovered. Proceed (y/[n])? y\n"
     ]
    }
   ],
   "source": [
    "%reset"
   ]
  },
  {
   "cell_type": "markdown",
   "metadata": {},
   "source": [
    "#  Packages & Imports"
   ]
  },
  {
   "cell_type": "code",
   "execution_count": 2,
   "metadata": {},
   "outputs": [],
   "source": [
    "import numpy as np\n",
    "import pandas as pd\n",
    "import matplotlib as plt\n",
    "import seaborn as sns\n",
    "import sklearn as skl\n",
    "import warnings\n",
    "import statsmodels.api as sm\n",
    "\n",
    "from sklearn import datasets, linear_model\n",
    "from sklearn.linear_model import LogisticRegression\n",
    "from sklearn.metrics import mean_squared_error\n",
    "from sklearn.model_selection import train_test_split, KFold, GridSearchCV\n",
    "from sklearn.model_selection import cross_val_score, cross_val_predict, ShuffleSplit, validation_curve, cross_validate\n",
    "from sklearn.pipeline import make_pipeline\n",
    "from sklearn.preprocessing import LabelBinarizer, RobustScaler, LabelEncoder, scale, MinMaxScaler, PolynomialFeatures\n",
    "from sklearn.ensemble import ExtraTreesClassifier\n",
    "from sklearn.metrics import accuracy_score, classification_report, roc_curve, roc_auc_score, confusion_matrix\n",
    "from sklearn.decomposition import PCA\n",
    "from sklearn import datasets\n",
    "from sklearn.feature_selection import RFE,SelectFromModel\n",
    "\n",
    "from sklearn.ensemble import RandomForestClassifier as RFC\n",
    "from sklearn.datasets import make_classification\n",
    "\n",
    "from xgboost import XGBClassifier \n",
    "\n",
    "from scipy.stats import skew, boxcox_normmax\n",
    "from scipy.special import boxcox1p\n",
    "\n",
    "warnings.filterwarnings('ignore')\n",
    "warnings.simplefilter(action='ignore', category=FutureWarning)\n",
    "warnings.simplefilter(action='ignore', category=DeprecationWarning)\n",
    "warnings.simplefilter('ignore')\n"
   ]
  },
  {
   "cell_type": "code",
   "execution_count": 3,
   "metadata": {},
   "outputs": [],
   "source": [
    "#Load Datasets\n",
    "train_data = pd.read_csv(\"training_set_values.csv\")\n",
    "train_labels = pd.read_csv(\"training_set_labels.csv\")\n",
    "test_data = pd.read_csv(\"test_set_values.csv\")\n"
   ]
  },
  {
   "cell_type": "code",
   "execution_count": 4,
   "metadata": {},
   "outputs": [],
   "source": [
    "#Join Labels with Train data\n",
    "train_labels = train_labels.drop(columns='id')\n",
    "train_data = train_data.join(train_labels)\n"
   ]
  },
  {
   "cell_type": "code",
   "execution_count": 9,
   "metadata": {},
   "outputs": [],
   "source": [
    "#Drop id and recorded from train dataset \n",
    "train_data= train_data.drop(columns=['id'])\n",
    "train_data= train_data.drop(columns=['recorded_by'])\n"
   ]
  },
  {
   "cell_type": "code",
   "execution_count": 10,
   "metadata": {},
   "outputs": [],
   "source": [
    "#Drop id and recorded from test dataset \n",
    "test_data= test_data.drop(columns=['id'])\n",
    "test_data= test_data.drop(columns=['recorded_by'])"
   ]
  },
  {
   "cell_type": "code",
   "execution_count": 11,
   "metadata": {},
   "outputs": [],
   "source": [
    "# Differentiate categorical from numerical variables, even though some are encoded already,\n",
    "num_train_data = train_data[[\n",
    "# 'id',\n",
    "'amount_tsh',\n",
    "'gps_height',\n",
    "'num_private',\n",
    "'population',\n",
    "]]\n",
    "\n",
    "other_train_data = train_data[[ \n",
    "'longitude',\n",
    "'latitude',\n",
    "'date_recorded',\n",
    "]]\n",
    "    \n",
    "categorical_columns = list(set(train_data.columns) - set(num_train_data.columns) - set(other_train_data.columns))\n",
    "cat_train_data = train_data.loc[:,categorical_columns]\n"
   ]
  },
  {
   "cell_type": "markdown",
   "metadata": {},
   "source": [
    "# Data Preparation Proposals\n",
    "Keeping all transformations in the same cell in an effort to make easy to recreate all steps for the Test set"
   ]
  },
  {
   "cell_type": "code",
   "execution_count": 53,
   "metadata": {},
   "outputs": [
    {
     "name": "stdout",
     "output_type": "stream",
     "text": [
      "<class 'pandas.core.frame.DataFrame'>\n",
      "RangeIndex: 59400 entries, 0 to 59399\n",
      "Data columns (total 39 columns):\n",
      "amount_tsh               59400 non-null float64\n",
      "date_recorded            59400 non-null object\n",
      "funder                   55765 non-null object\n",
      "gps_height               59400 non-null int64\n",
      "installer                55745 non-null object\n",
      "longitude                59400 non-null float64\n",
      "latitude                 59400 non-null float64\n",
      "wpt_name                 59400 non-null object\n",
      "num_private              59400 non-null int64\n",
      "basin                    59400 non-null object\n",
      "subvillage               59029 non-null object\n",
      "region                   59400 non-null object\n",
      "region_code              59400 non-null int64\n",
      "district_code            59400 non-null int64\n",
      "lga                      59400 non-null object\n",
      "ward                     59400 non-null object\n",
      "population               59400 non-null int64\n",
      "public_meeting           56066 non-null object\n",
      "scheme_management        55523 non-null object\n",
      "scheme_name              31234 non-null object\n",
      "permit                   56344 non-null object\n",
      "construction_year        59400 non-null int64\n",
      "extraction_type          59400 non-null object\n",
      "extraction_type_group    59400 non-null object\n",
      "extraction_type_class    59400 non-null object\n",
      "management               59400 non-null object\n",
      "management_group         59400 non-null object\n",
      "payment                  59400 non-null object\n",
      "payment_type             59400 non-null object\n",
      "water_quality            59400 non-null object\n",
      "quality_group            59400 non-null object\n",
      "quantity                 59400 non-null object\n",
      "quantity_group           59400 non-null object\n",
      "source                   59400 non-null object\n",
      "source_type              59400 non-null object\n",
      "source_class             59400 non-null object\n",
      "waterpoint_type          59400 non-null object\n",
      "waterpoint_type_group    59400 non-null object\n",
      "status_group             59400 non-null object\n",
      "dtypes: float64(3), int64(6), object(30)\n",
      "memory usage: 17.7+ MB\n"
     ]
    }
   ],
   "source": [
    "train_data.info()"
   ]
  },
  {
   "cell_type": "code",
   "execution_count": 54,
   "metadata": {},
   "outputs": [
    {
     "data": {
      "text/plain": [
       "array(['functional', 'non functional', 'functional needs repair'],\n",
       "      dtype=object)"
      ]
     },
     "execution_count": 54,
     "metadata": {},
     "output_type": "execute_result"
    }
   ],
   "source": [
    "train_data['status_group'].unique()"
   ]
  },
  {
   "cell_type": "markdown",
   "metadata": {},
   "source": [
    "Transform Training Dataset"
   ]
  },
  {
   "cell_type": "code",
   "execution_count": 55,
   "metadata": {},
   "outputs": [],
   "source": [
    "train_temp = train_data.copy()\n",
    "\n",
    "# installer - shortlist of the 5 higher and category other, note that nulls will be included in this criteria.\n",
    "def replace(x):\n",
    "    if x in list(['DWE', 'Government','RWE','Commu','DANIDA']):\n",
    "        return x\n",
    "    else:\n",
    "        return 'other'\n",
    "train_temp.installer = train_temp.installer.map(replace)\n",
    "\n",
    "# funder - shortlist of the 5 higher and category other, note that nulls will be included in this criteria.\n",
    "def replace(x):\n",
    "    if x in list(['Government Of Tanzania',\n",
    "'Danida',\n",
    "'Hesawa',\n",
    "'Rwssp',\n",
    "'World Bank',\n",
    "'Kkkt',\n",
    "'World Vision',\n",
    "'Unicef',\n",
    "'Tasaf',\n",
    "'District Council']):\n",
    "        return x\n",
    "    else:\n",
    "        return 'other'\n",
    "train_temp.funder = train_temp.funder.map(replace)\n",
    "\n",
    "# lga - shortlist of the 5 higher and category other, note that nulls will be included in this criteria.\n",
    "def replace(x):\n",
    "    if x in list(['Njombe',\n",
    "'Arusha Rural',\n",
    "'Moshi Rural',\n",
    "'Bariadi',\n",
    "'Rungwe',\n",
    "'Kilosa',\n",
    "'Kasulu',\n",
    "'Mbozi',\n",
    "'Meru',\n",
    "'Bagamoyo']):\n",
    "        return x\n",
    "    else:\n",
    "        return 'other'\n",
    "train_temp.lga = train_temp.lga.map(replace)\n",
    "\n",
    "\n",
    "#Eliminate scheme_name from the dataset.\n",
    "train_temp= train_temp.drop(columns=['scheme_name'])\n",
    "\n",
    "# Eliminate ward from dataset\n",
    "train_temp= train_temp.drop(columns=['ward'])\n",
    "\n",
    "# Eliminate wpt_name from dataset#\n",
    "train_temp= train_temp.drop(columns=['wpt_name'])\n",
    "\n",
    "# Eliminate subvillage from dataset#\n",
    "train_temp= train_temp.drop(columns=['subvillage'])\n",
    "\n",
    "#Choose Between Region and Region_Code and District Code\n",
    "#train_temp= train_temp.drop(columns=['region'])\n",
    "#train_temp= train_temp.drop(columns=['region_code'])\n",
    "#train_temp= train_temp.drop(columns=['district_code'])\n",
    "\n",
    "#Construction Year, Bin values per decade --- Note: that (-1, 1960] is the same as Unknown\n",
    "year_bins = [-1, 1960, 1990, 2015]\n",
    "train_temp['construction_year_bin'] = pd.cut(train_temp.construction_year,year_bins)\n",
    "train_temp['construction_year_bin'] = train_temp[\"construction_year_bin\"].astype('category') \n",
    "train_temp= train_temp.drop(columns=['construction_year'])\n",
    "\n",
    "#how to treat, date_recorded?\n",
    "train_temp.date_recorded = pd.to_datetime(train_temp.date_recorded)\n",
    "train_temp.date_recorded = pd.to_datetime(train_temp.date_recorded)\n",
    "train_temp.date_recorded = pd.datetime(2014, 1, 1) - pd.to_datetime(train_temp.date_recorded)\n",
    "train_temp.columns = ['days_since_recorded' if x=='date_recorded' else x for x in train_temp.columns]\n",
    "train_temp.days_since_recorded = train_temp.days_since_recorded.astype('timedelta64[D]').astype(int)\n",
    "\n",
    "recorded_bins = [1, 500, 1000, 2000, 4100]\n",
    "train_temp['days_since_recorded_bin'] = pd.cut(train_temp.days_since_recorded,recorded_bins)\n",
    "train_temp['days_since_recorded_bin'] = train_temp[\"days_since_recorded_bin\"].astype('category') \n",
    "\n",
    "#Is longitude and Latitude relevant to the model\n",
    "# train_temp= train_temp.drop(columns=['longitude'])\n",
    "# train_temp= train_temp.drop(columns=['latitude'])\n",
    "\n",
    "#Decide between waterpoint_type & waterpoint_type_group\n",
    "# train_temp= train_temp.drop(columns=['waterpoint_type'])\n",
    "# train_temp= train_temp.drop(columns=['waterpoint_type_group'])\n",
    "\n",
    "#Decide between extraction_type & extraction_type_group & extraction_type_class\n",
    "# train_temp= train_temp.drop(columns=['extraction_type'])\n",
    "# train_temp= train_temp.drop(columns=['extraction_type_group'])\n",
    "# train_temp= train_temp.drop(columns=['extraction_type_class'])\n",
    "\n"
   ]
  },
  {
   "cell_type": "markdown",
   "metadata": {},
   "source": [
    "Transform Test Dataset"
   ]
  },
  {
   "cell_type": "code",
   "execution_count": 56,
   "metadata": {},
   "outputs": [],
   "source": [
    "test_temp = test_data.copy()\n",
    "\n",
    "# installer - shortlist of the 5 higher and category other, note that nulls will be included in this criteria.\n",
    "def replace(x):\n",
    "    if x in list(['DWE', 'Government','RWE','Commu','DANIDA']):\n",
    "        return x\n",
    "    else:\n",
    "        return 'other'\n",
    "test_temp.installer = test_temp.installer.map(replace)\n",
    "\n",
    "# funder - shortlist of the 5 higher and category other, note that nulls will be included in this criteria.\n",
    "def replace(x):\n",
    "    if x in list(['Government Of Tanzania',\n",
    "'Danida',\n",
    "'Hesawa',\n",
    "'Rwssp',\n",
    "'World Bank',\n",
    "'Kkkt',\n",
    "'World Vision',\n",
    "'Unicef',\n",
    "'Tasaf',\n",
    "'District Council']):\n",
    "        return x\n",
    "    else:\n",
    "        return 'other'\n",
    "test_temp.funder = test_temp.funder.map(replace)\n",
    "\n",
    "# lga - shortlist of the 5 higher and category other, note that nulls will be included in this criteria.\n",
    "def replace(x):\n",
    "    if x in list(['Njombe',\n",
    "'Arusha Rural',\n",
    "'Moshi Rural',\n",
    "'Bariadi',\n",
    "'Rungwe',\n",
    "'Kilosa',\n",
    "'Kasulu',\n",
    "'Mbozi',\n",
    "'Meru',\n",
    "'Bagamoyo']):\n",
    "        return x\n",
    "    else:\n",
    "        return 'other'\n",
    "test_temp.lga = test_temp.lga.map(replace)\n",
    "\n",
    "\n",
    "#Eliminate scheme_name from the dataset.\n",
    "test_temp= test_temp.drop(columns=['scheme_name'])\n",
    "\n",
    "# Eliminate ward from dataset\n",
    "test_temp= test_temp.drop(columns=['ward'])\n",
    "\n",
    "# Eliminate wpt_name from dataset#\n",
    "test_temp= test_temp.drop(columns=['wpt_name'])\n",
    "\n",
    "# Eliminate subvillage from dataset#\n",
    "test_temp= test_temp.drop(columns=['subvillage'])\n",
    "\n",
    "#Choose Between Region and Region_Code and District Code\n",
    "#test_temp= test_temp.drop(columns=['region'])\n",
    "#test_temp= test_temp.drop(columns=['region_code'])\n",
    "#test_temp= test_temp.drop(columns=['district_code'])\n",
    "\n",
    "#Construction Year, Bin values per decade --- Note: that (-1, 1960] is the same as Unknown\n",
    "year_bins = [-1, 1960, 1990, 2015]\n",
    "test_temp['construction_year_bin'] = pd.cut(test_temp.construction_year,year_bins)\n",
    "test_temp['construction_year_bin'] = test_temp[\"construction_year_bin\"].astype('category') \n",
    "test_temp= test_temp.drop(columns=['construction_year'])\n",
    "\n",
    "#how to treat, date_recorded?\n",
    "test_temp.date_recorded = pd.to_datetime(test_temp.date_recorded)\n",
    "test_temp.date_recorded = pd.to_datetime(test_temp.date_recorded)\n",
    "test_temp.date_recorded = pd.datetime(2014, 1, 1) - pd.to_datetime(test_temp.date_recorded)\n",
    "test_temp.columns = ['days_since_recorded' if x=='date_recorded' else x for x in test_temp.columns]\n",
    "test_temp.days_since_recorded = test_temp.days_since_recorded.astype('timedelta64[D]').astype(int)\n",
    "\n",
    "recorded_bins = [1, 500, 1000, 2000, 4100]\n",
    "test_temp['days_since_recorded_bin'] = pd.cut(test_temp.days_since_recorded,recorded_bins)\n",
    "test_temp['days_since_recorded_bin'] = test_temp[\"days_since_recorded_bin\"].astype('category') \n",
    "\n",
    "#Is longitude and Latitude relevant to the model\n",
    "# test_temp= test_temp.drop(columns=['longitude'])\n",
    "# test_temp= test_temp.drop(columns=['latitude'])\n",
    "\n",
    "#Decide between waterpoint_type & waterpoint_type_group\n",
    "# test_temp= test_temp.drop(columns=['waterpoint_type'])\n",
    "# test_temp= test_temp.drop(columns=['waterpoint_type_group'])\n",
    "\n",
    "#Decide between extraction_type & extraction_type_group & extraction_type_class\n",
    "# test_temp= test_temp.drop(columns=['extraction_type'])\n",
    "# test_temp= test_temp.drop(columns=['extraction_type_group'])\n",
    "# test_temp= test_temp.drop(columns=['extraction_type_class'])\n",
    "\n"
   ]
  },
  {
   "cell_type": "markdown",
   "metadata": {},
   "source": [
    "Transform Train Data types"
   ]
  },
  {
   "cell_type": "code",
   "execution_count": 57,
   "metadata": {},
   "outputs": [],
   "source": [
    "train_temp['district_code'] = train_temp[\"district_code\"].astype('category') \n",
    "train_temp['region_code'] = train_temp[\"region_code\"].astype('category') \n",
    "#target = train_temp[['status_group']]\n",
    "#train_temp['status_group'] = train_temp[\"status_group\"].astype('category') \n",
    "\n",
    "train_temp['funder'] = train_temp[\"funder\"].astype('category') \n",
    "train_temp['installer'] = train_temp[\"installer\"].astype('category') \n",
    "train_temp['lga'] = train_temp[\"lga\"].astype('category') "
   ]
  },
  {
   "cell_type": "markdown",
   "metadata": {},
   "source": [
    "Transform Test Data types"
   ]
  },
  {
   "cell_type": "code",
   "execution_count": 58,
   "metadata": {},
   "outputs": [],
   "source": [
    "test_temp['district_code'] = test_temp[\"district_code\"].astype('category') \n",
    "test_temp['region_code'] = test_temp[\"region_code\"].astype('category') \n",
    "#target = test_temp[['status_group']]\n",
    "#test_temp['status_group'] = test_temp[\"status_group\"].astype('category') \n",
    "\n",
    "test_temp['funder'] = test_temp[\"funder\"].astype('category') \n",
    "test_temp['installer'] = test_temp[\"installer\"].astype('category') \n",
    "test_temp['lga'] = test_temp[\"lga\"].astype('category') "
   ]
  },
  {
   "cell_type": "code",
   "execution_count": 59,
   "metadata": {},
   "outputs": [
    {
     "data": {
      "text/plain": [
       "35"
      ]
     },
     "execution_count": 59,
     "metadata": {},
     "output_type": "execute_result"
    }
   ],
   "source": [
    "len(test_temp.columns)"
   ]
  },
  {
   "cell_type": "code",
   "execution_count": 60,
   "metadata": {},
   "outputs": [
    {
     "data": {
      "text/plain": [
       "36"
      ]
     },
     "execution_count": 60,
     "metadata": {},
     "output_type": "execute_result"
    }
   ],
   "source": [
    "len(train_temp.columns)"
   ]
  },
  {
   "cell_type": "code",
   "execution_count": 61,
   "metadata": {},
   "outputs": [],
   "source": [
    "# # Differentiate categorical from numerical variables\n",
    "\n",
    "# target = train_temp[['status_group']]\n",
    "\n",
    "# num_train_temp = train_temp[[\n",
    "# 'amount_tsh',\n",
    "# 'gps_height',\n",
    "# 'num_private',\n",
    "# 'population',\n",
    "# 'days_since_recorded']]\n",
    "\n",
    "# #Other are those fields under review that require further discussion\n",
    "# other_train_temp = train_temp[[ \n",
    "# 'longitude',\n",
    "# 'latitude',\n",
    "# 'funder',\n",
    "# 'lga',\n",
    "# 'installer',\n",
    "# ]]\n",
    "    \n",
    "# categorical_columns = list(set(train_temp.columns) - set(num_train_temp.columns) - set(other_train_temp.columns))\n",
    "# cat_train_temp = train_temp.loc[:,categorical_columns]\n"
   ]
  },
  {
   "cell_type": "code",
   "execution_count": 62,
   "metadata": {},
   "outputs": [],
   "source": [
    "def numerical_features(df):\n",
    "    columns = df.columns\n",
    "    return df._get_numeric_data().columns\n",
    "\n",
    "def categorical_features(df):\n",
    "    numerical_columns = numerical_features(df)\n",
    "    return(list(set(df.columns) - set(numerical_columns)))\n",
    "\n",
    "def onehot_encode(df):\n",
    "    numericals = df.get(numerical_features(df))\n",
    "    new_df = numericals.copy()\n",
    "    for categorical_column in categorical_features(df):\n",
    "        new_df = pd.concat([new_df, \n",
    "                            pd.get_dummies(df[categorical_column], \n",
    "                                           prefix=categorical_column)], \n",
    "                           axis=1)\n",
    "    return new_df"
   ]
  },
  {
   "cell_type": "markdown",
   "metadata": {},
   "source": [
    "# Data Preparation Exploratory Analysis"
   ]
  },
  {
   "cell_type": "code",
   "execution_count": 64,
   "metadata": {},
   "outputs": [
    {
     "data": {
      "text/plain": [
       "<matplotlib.axes._subplots.AxesSubplot at 0x1c1f5dca20>"
      ]
     },
     "execution_count": 64,
     "metadata": {},
     "output_type": "execute_result"
    },
    {
     "data": {
      "image/png": "[encoded data removed]",
      "text/plain": [
       "<Figure size 1440x720 with 2 Axes>"
      ]
     },
     "metadata": {
      "needs_background": "light"
     },
     "output_type": "display_data"
    }
   ],
   "source": [
    "plt.pyplot.figure(figsize=(20,10))\n",
    "sns.heatmap(train_temp.corr(),cbar=True,fmt =' .2f', annot=True, cmap='viridis')"
   ]
  },
  {
   "cell_type": "code",
   "execution_count": 65,
   "metadata": {},
   "outputs": [
    {
     "data": {
      "text/plain": [
       "Text(0, 0.5, 'Percentage')"
      ]
     },
     "execution_count": 65,
     "metadata": {},
     "output_type": "execute_result"
    },
    {
     "data": {
      "image/png": "[encoded data removed]",
      "text/plain": [
       "<Figure size 432x288 with 1 Axes>"
      ]
     },
     "metadata": {
      "needs_background": "light"
     },
     "output_type": "display_data"
    }
   ],
   "source": [
    "plt.pyplot.show()\n",
    "ax = ((train_temp[train_temp.status_group=='functional'].days_since_recorded_bin.value_counts().sort_index()/len(train_temp.status_group))*100).plot(kind='bar',color='g', x='days_since_recorded_bin')\n",
    "((train_temp[train_temp.status_group=='non functional'].days_since_recorded_bin.value_counts().sort_index()/len(train_temp.status_group))*100).plot(kind='bar',color='r', x='days_since_recorded_bin')\n",
    "((train_temp[train_temp.status_group=='functional needs repair'].days_since_recorded_bin.value_counts().sort_index()/len(train_temp.status_group)*100)).plot(kind='bar',color='b',alpha= 0.7, ax= ax, x='days_since_recorded_bin')\n",
    "ax.legend([\"functional\", \"non functional\",\"functional needs repair\"])\n",
    "plt.pyplot.title('Distribution of days_since_recorded_bin variable ')\n",
    "plt.pyplot.xlabel('days_since_recorded_bin')\n",
    "plt.pyplot.ylabel('Percentage')"
   ]
  },
  {
   "cell_type": "code",
   "execution_count": 66,
   "metadata": {},
   "outputs": [
    {
     "data": {
      "text/plain": [
       "Text(0, 0.5, 'Percentage')"
      ]
     },
     "execution_count": 66,
     "metadata": {},
     "output_type": "execute_result"
    },
    {
     "data": {
      "image/png": "[encoded data removed]",
      "text/plain": [
       "<Figure size 432x288 with 1 Axes>"
      ]
     },
     "metadata": {
      "needs_background": "light"
     },
     "output_type": "display_data"
    }
   ],
   "source": [
    "plt.pyplot.show()\n",
    "ax = ((train_temp[train_temp.status_group=='functional'].construction_year_bin.value_counts().sort_index()/len(train_temp.status_group))*100).plot(kind='bar',color='g', x='construction_year_bin')\n",
    "((train_temp[train_temp.status_group=='non functional'].construction_year_bin.value_counts().sort_index()/len(train_temp.status_group))*100).plot(kind='bar',color='r', x='construction_year_bin')\n",
    "((train_temp[train_temp.status_group=='functional needs repair'].construction_year_bin.value_counts().sort_index()/len(train_temp.status_group)*100)).plot(kind='bar',color='b',alpha= 0.7, ax= ax, x='construction_year_bin')\n",
    "ax.legend([\"functional\", \"non functional\",\"functional needs repair\"])\n",
    "plt.pyplot.title('Distribution of construction_year_bin variable ')\n",
    "plt.pyplot.xlabel('construction_year_bin')\n",
    "plt.pyplot.ylabel('Percentage')"
   ]
  },
  {
   "cell_type": "code",
   "execution_count": 67,
   "metadata": {},
   "outputs": [
    {
     "data": {
      "text/plain": [
       "Text(0, 0.5, 'Percentage')"
      ]
     },
     "execution_count": 67,
     "metadata": {},
     "output_type": "execute_result"
    },
    {
     "data": {
      "image/png": "[encoded data removed]",
      "text/plain": [
       "<Figure size 432x288 with 1 Axes>"
      ]
     },
     "metadata": {
      "needs_background": "light"
     },
     "output_type": "display_data"
    }
   ],
   "source": [
    "plt.pyplot.show()\n",
    "ax = ((train_temp[train_temp.status_group=='functional'].installer.value_counts().sort_index()/len(train_temp.status_group))*100).plot(kind='bar',color='g', x='installer')\n",
    "((train_temp[train_temp.status_group=='non functional'].installer.value_counts().sort_index()/len(train_temp.status_group))*100).plot(kind='bar',color='r', x='installer')\n",
    "((train_temp[train_temp.status_group=='functional needs repair'].installer.value_counts().sort_index()/len(train_temp.status_group)*100)).plot(kind='bar',color='b',alpha= 0.7, ax= ax, x='installer')\n",
    "ax.legend([\"functional\", \"non functional\",\"functional needs repair\"])\n",
    "plt.pyplot.title('Distribution of installer variable ')\n",
    "plt.pyplot.xlabel('installer')\n",
    "plt.pyplot.ylabel('Percentage')"
   ]
  },
  {
   "cell_type": "code",
   "execution_count": 68,
   "metadata": {},
   "outputs": [
    {
     "data": {
      "text/plain": [
       "Text(0, 0.5, 'Percentage')"
      ]
     },
     "execution_count": 68,
     "metadata": {},
     "output_type": "execute_result"
    },
    {
     "data": {
      "image/png": "[encoded data removed]",
      "text/plain": [
       "<Figure size 432x288 with 1 Axes>"
      ]
     },
     "metadata": {
      "needs_background": "light"
     },
     "output_type": "display_data"
    }
   ],
   "source": [
    "plt.pyplot.show()\n",
    "ax = ((train_temp[train_temp.status_group=='functional'].funder.value_counts().sort_index()/len(train_temp.status_group))*100).plot(kind='bar',color='g', x='funder')\n",
    "((train_temp[train_temp.status_group=='non functional'].funder.value_counts().sort_index()/len(train_temp.status_group))*100).plot(kind='bar',color='r', x='funder')\n",
    "((train_temp[train_temp.status_group=='functional needs repair'].funder.value_counts().sort_index()/len(train_temp.status_group)*100)).plot(kind='bar',color='b',alpha= 0.7, ax= ax, x='funder')\n",
    "ax.legend([\"functional\", \"non functional\",\"functional needs repair\"])\n",
    "plt.pyplot.title('Distribution of funder variable ')\n",
    "plt.pyplot.xlabel('funder')\n",
    "plt.pyplot.ylabel('Percentage')"
   ]
  },
  {
   "cell_type": "code",
   "execution_count": 69,
   "metadata": {},
   "outputs": [
    {
     "data": {
      "text/plain": [
       "Text(0, 0.5, 'Percentage')"
      ]
     },
     "execution_count": 69,
     "metadata": {},
     "output_type": "execute_result"
    },
    {
     "data": {
      "image/png": "[encoded data removed]",
      "text/plain": [
       "<Figure size 432x288 with 1 Axes>"
      ]
     },
     "metadata": {
      "needs_background": "light"
     },
     "output_type": "display_data"
    }
   ],
   "source": [
    "plt.pyplot.show()\n",
    "ax = ((train_temp[train_temp.status_group=='functional'].lga.value_counts().sort_index()/len(train_temp.status_group))*100).plot(kind='bar',color='g', x='lga')\n",
    "((train_temp[train_temp.status_group=='non functional'].lga.value_counts().sort_index()/len(train_temp.status_group))*100).plot(kind='bar',color='r', x='lga')\n",
    "((train_temp[train_temp.status_group=='functional needs repair'].lga.value_counts().sort_index()/len(train_temp.status_group)*100)).plot(kind='bar',color='b',alpha= 0.7, ax= ax, x='lga')\n",
    "ax.legend([\"functional\", \"non functional\",\"functional needs repair\"])\n",
    "plt.pyplot.title('Distribution of lga variable ')\n",
    "plt.pyplot.xlabel('lga')\n",
    "plt.pyplot.ylabel('Percentage')"
   ]
  },
  {
   "cell_type": "markdown",
   "metadata": {},
   "source": [
    "# Save Data"
   ]
  },
  {
   "cell_type": "code",
   "execution_count": null,
   "metadata": {},
   "outputs": [],
   "source": []
  }
 ],
 "metadata": {
  "kernelspec": {
   "display_name": "Python 3",
   "language": "python",
   "name": "python3"
  },
  "language_info": {
   "codemirror_mode": {
    "name": "ipython",
    "version": 3
   },
   "file_extension": ".py",
   "mimetype": "text/x-python",
   "name": "python",
   "nbconvert_exporter": "python",
   "pygments_lexer": "ipython3",
   "version": "3.7.1"
  }
 },
 "nbformat": 4,
 "nbformat_minor": 2
}
